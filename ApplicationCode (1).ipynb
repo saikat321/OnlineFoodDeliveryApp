{
 "cells": [
  {
   "cell_type": "markdown",
   "id": "f5844bc4",
   "metadata": {},
   "source": [
    "# Relational Databse Implementaiton with SQLite3"
   ]
  },
  {
   "cell_type": "markdown",
   "id": "329cb9ff",
   "metadata": {},
   "source": [
    "### Importing Libraries needed for the applicaiton"
   ]
  },
  {
   "cell_type": "code",
   "execution_count": 59,
   "id": "ca1be204",
   "metadata": {},
   "outputs": [],
   "source": [
    "import sqlalchemy\n",
    "import datetime\n",
    "import decimal\n",
    "from sqlalchemy import exc\n",
    "#from datetime import datetime\n",
    "import sqlite3\n",
    "\n",
    "# Imports the declarative_base object, which connects the database engine to the SQLAlchemy functionality of the models.\n",
    "from sqlalchemy.ext.declarative import declarative_base\n",
    "\n",
    "# Imports the Column, Integer, String classes from SQLAlchemy, which are used to help define the model attributes.\n",
    "from sqlalchemy import Column, Integer, String, Float, BigInteger, DateTime, UniqueConstraint, DECIMAL\n",
    "\n",
    "# Imports all the cinstraints, functionalities sqlalchemy offer\n",
    "from sqlalchemy import *\n",
    "\n",
    "# Imports the relationship() object, which are used to create the relationships between objects.\n",
    "from sqlalchemy.orm import relationship\n",
    "\n",
    "# Imports create_engine whihc is subsequently used for SQL operation\n",
    "from sqlalchemy import create_engine\n"
   ]
  },
  {
   "cell_type": "markdown",
   "id": "7f7761e5",
   "metadata": {},
   "source": [
    "### Creating Relational Database using sqlalchemy and sqlite"
   ]
  },
  {
   "cell_type": "code",
   "execution_count": 61,
   "id": "cf612fb1",
   "metadata": {},
   "outputs": [
    {
     "name": "stdout",
     "output_type": "stream",
     "text": [
      "Welcome to our OnlineFoodDelivery Platform\n"
     ]
    }
   ],
   "source": [
    "# The first parameter is the name of the database.\n",
    "# The second parameter (echo) is set to true; this will generate the activity log\n",
    "DatabaseName = 'OnlineFoodDeliveryAppDemoRun01.db'\n",
    "pathForSQLConn = 'D:\\\\Study\\\\Submissions\\\\Term 2\\\\Database\\\\Group Project\\\\'+DatabaseName\n",
    "pathforEngine = 'sqlite:///'+DatabaseName\n",
    "engine = create_engine(pathforEngine, echo = True)\n",
    "\n",
    "print(\"Welcome to our OnlineFoodDelivery Platform\")"
   ]
  },
  {
   "cell_type": "code",
   "execution_count": 4,
   "id": "779796c3",
   "metadata": {},
   "outputs": [
    {
     "name": "stdout",
     "output_type": "stream",
     "text": [
      "2022-03-30 17:43:49,106 INFO sqlalchemy.engine.Engine BEGIN (implicit)\n",
      "2022-03-30 17:43:49,107 INFO sqlalchemy.engine.Engine PRAGMA main.table_info(\"shops\")\n",
      "2022-03-30 17:43:49,130 INFO sqlalchemy.engine.Engine [raw sql] ()\n",
      "2022-03-30 17:43:49,131 INFO sqlalchemy.engine.Engine PRAGMA temp.table_info(\"shops\")\n",
      "2022-03-30 17:43:49,131 INFO sqlalchemy.engine.Engine [raw sql] ()\n",
      "2022-03-30 17:43:49,132 INFO sqlalchemy.engine.Engine PRAGMA main.table_info(\"items\")\n",
      "2022-03-30 17:43:49,133 INFO sqlalchemy.engine.Engine [raw sql] ()\n",
      "2022-03-30 17:43:49,133 INFO sqlalchemy.engine.Engine PRAGMA temp.table_info(\"items\")\n",
      "2022-03-30 17:43:49,134 INFO sqlalchemy.engine.Engine [raw sql] ()\n",
      "2022-03-30 17:43:49,135 INFO sqlalchemy.engine.Engine PRAGMA main.table_info(\"link\")\n",
      "2022-03-30 17:43:49,135 INFO sqlalchemy.engine.Engine [raw sql] ()\n",
      "2022-03-30 17:43:49,136 INFO sqlalchemy.engine.Engine PRAGMA temp.table_info(\"link\")\n",
      "2022-03-30 17:43:49,136 INFO sqlalchemy.engine.Engine [raw sql] ()\n",
      "2022-03-30 17:43:49,137 INFO sqlalchemy.engine.Engine PRAGMA main.table_info(\"customers\")\n",
      "2022-03-30 17:43:49,138 INFO sqlalchemy.engine.Engine [raw sql] ()\n",
      "2022-03-30 17:43:49,139 INFO sqlalchemy.engine.Engine PRAGMA temp.table_info(\"customers\")\n",
      "2022-03-30 17:43:49,139 INFO sqlalchemy.engine.Engine [raw sql] ()\n",
      "2022-03-30 17:43:49,140 INFO sqlalchemy.engine.Engine PRAGMA main.table_info(\"orders\")\n",
      "2022-03-30 17:43:49,140 INFO sqlalchemy.engine.Engine [raw sql] ()\n",
      "2022-03-30 17:43:49,141 INFO sqlalchemy.engine.Engine PRAGMA temp.table_info(\"orders\")\n",
      "2022-03-30 17:43:49,141 INFO sqlalchemy.engine.Engine [raw sql] ()\n",
      "2022-03-30 17:43:49,142 INFO sqlalchemy.engine.Engine PRAGMA main.table_info(\"coupons\")\n",
      "2022-03-30 17:43:49,143 INFO sqlalchemy.engine.Engine [raw sql] ()\n",
      "2022-03-30 17:43:49,144 INFO sqlalchemy.engine.Engine PRAGMA temp.table_info(\"coupons\")\n",
      "2022-03-30 17:43:49,144 INFO sqlalchemy.engine.Engine [raw sql] ()\n",
      "2022-03-30 17:43:49,145 INFO sqlalchemy.engine.Engine PRAGMA main.table_info(\"invoice\")\n",
      "2022-03-30 17:43:49,146 INFO sqlalchemy.engine.Engine [raw sql] ()\n",
      "2022-03-30 17:43:49,147 INFO sqlalchemy.engine.Engine PRAGMA temp.table_info(\"invoice\")\n",
      "2022-03-30 17:43:49,147 INFO sqlalchemy.engine.Engine [raw sql] ()\n",
      "2022-03-30 17:43:49,147 INFO sqlalchemy.engine.Engine PRAGMA main.table_info(\"feedback\")\n",
      "2022-03-30 17:43:49,148 INFO sqlalchemy.engine.Engine [raw sql] ()\n",
      "2022-03-30 17:43:49,148 INFO sqlalchemy.engine.Engine PRAGMA temp.table_info(\"feedback\")\n",
      "2022-03-30 17:43:49,149 INFO sqlalchemy.engine.Engine [raw sql] ()\n",
      "2022-03-30 17:43:49,151 INFO sqlalchemy.engine.Engine \n",
      "CREATE TABLE shops (\n",
      "\tid INTEGER NOT NULL, \n",
      "\tshop_name VARCHAR(40) NOT NULL, \n",
      "\tshop_cuisine VARCHAR(40) NOT NULL, \n",
      "\t\"shop_addressLine1\" VARCHAR(20) NOT NULL, \n",
      "\t\"shop_postalCode\" VARCHAR(6) NOT NULL, \n",
      "\tshop_contact INTEGER NOT NULL, \n",
      "\tPRIMARY KEY (id), \n",
      "\tUNIQUE (shop_name)\n",
      ")\n",
      "\n",
      "\n",
      "2022-03-30 17:43:49,151 INFO sqlalchemy.engine.Engine [no key 0.00045s] ()\n",
      "2022-03-30 17:43:49,590 INFO sqlalchemy.engine.Engine \n",
      "CREATE TABLE items (\n",
      "\tid INTEGER NOT NULL, \n",
      "\titem_name VARCHAR(40) NOT NULL, \n",
      "\titem_price DECIMAL(7, 3) NOT NULL, \n",
      "\tPRIMARY KEY (id), \n",
      "\tUNIQUE (item_name)\n",
      ")\n",
      "\n",
      "\n",
      "2022-03-30 17:43:49,592 INFO sqlalchemy.engine.Engine [no key 0.00124s] ()\n",
      "2022-03-30 17:43:49,624 INFO sqlalchemy.engine.Engine \n",
      "CREATE TABLE customers (\n",
      "\tid INTEGER NOT NULL, \n",
      "\tcust_name VARCHAR(30) NOT NULL, \n",
      "\tcust_email VARCHAR(40) NOT NULL, \n",
      "\t\"cust_addressLine1\" VARCHAR(40) NOT NULL, \n",
      "\t\"cust_postalCode\" VARCHAR(6) NOT NULL, \n",
      "\tcust_contact INTEGER NOT NULL, \n",
      "\tPRIMARY KEY (id), \n",
      "\tUNIQUE (cust_email)\n",
      ")\n",
      "\n",
      "\n",
      "2022-03-30 17:43:49,625 INFO sqlalchemy.engine.Engine [no key 0.00085s] ()\n",
      "2022-03-30 17:43:49,658 INFO sqlalchemy.engine.Engine \n",
      "CREATE TABLE coupons (\n",
      "\tcoupon_code VARCHAR(10) NOT NULL, \n",
      "\tcoupon_discount INTEGER NOT NULL, \n",
      "\tcoupon_status VARCHAR DEFAULT 'ACTIVE' NOT NULL, \n",
      "\t\"coupon_validFrom\" DATE NOT NULL, \n",
      "\t\"coupon_validTill\" DATE NOT NULL, \n",
      "\tPRIMARY KEY (coupon_code)\n",
      ")\n",
      "\n",
      "\n",
      "2022-03-30 17:43:49,659 INFO sqlalchemy.engine.Engine [no key 0.00064s] ()\n",
      "2022-03-30 17:43:49,692 INFO sqlalchemy.engine.Engine \n",
      "CREATE TABLE link (\n",
      "\tshop_id INTEGER NOT NULL, \n",
      "\titem_id INTEGER NOT NULL, \n",
      "\tPRIMARY KEY (shop_id, item_id), \n",
      "\tFOREIGN KEY(shop_id) REFERENCES shops (id), \n",
      "\tFOREIGN KEY(item_id) REFERENCES items (id)\n",
      ")\n",
      "\n",
      "\n",
      "2022-03-30 17:43:49,693 INFO sqlalchemy.engine.Engine [no key 0.00081s] ()\n",
      "2022-03-30 17:43:49,727 INFO sqlalchemy.engine.Engine \n",
      "CREATE TABLE orders (\n",
      "\tid INTEGER NOT NULL, \n",
      "\tcust_id INTEGER NOT NULL, \n",
      "\titem_id INTEGER NOT NULL, \n",
      "\titem_qty INTEGER NOT NULL, \n",
      "\tshop_id INTEGER NOT NULL, \n",
      "\tPRIMARY KEY (id, item_id, shop_id), \n",
      "\tFOREIGN KEY(cust_id) REFERENCES customers (id) ON DELETE CASCADE ON UPDATE CASCADE, \n",
      "\tFOREIGN KEY(item_id) REFERENCES items (id), \n",
      "\tFOREIGN KEY(shop_id) REFERENCES shops (id)\n",
      ")\n",
      "\n",
      "\n",
      "2022-03-30 17:43:49,727 INFO sqlalchemy.engine.Engine [no key 0.00056s] ()\n",
      "2022-03-30 17:43:49,761 INFO sqlalchemy.engine.Engine \n",
      "CREATE TABLE invoice (\n",
      "\tinvoice_id INTEGER NOT NULL, \n",
      "\torder_id INTEGER NOT NULL, \n",
      "\ttotal_amt DECIMAL(7, 3) NOT NULL, \n",
      "\tdiscouted_price DECIMAL(7, 3) NOT NULL, \n",
      "\tcoupon_code VARCHAR(10), \n",
      "\tinvoice_date DATE NOT NULL, \n",
      "\tPRIMARY KEY (invoice_id), \n",
      "\tUNIQUE (order_id), \n",
      "\tFOREIGN KEY(order_id) REFERENCES orders (id) ON DELETE CASCADE ON UPDATE CASCADE, \n",
      "\tFOREIGN KEY(coupon_code) REFERENCES coupons (coupon_code)\n",
      ")\n",
      "\n",
      "\n",
      "2022-03-30 17:43:49,762 INFO sqlalchemy.engine.Engine [no key 0.00063s] ()\n",
      "2022-03-30 17:43:49,795 INFO sqlalchemy.engine.Engine \n",
      "CREATE TABLE feedback (\n",
      "\tfeedback_id INTEGER NOT NULL, \n",
      "\torder_id INTEGER NOT NULL, \n",
      "\tfeedback_text VARCHAR(100) NOT NULL, \n",
      "\tPRIMARY KEY (feedback_id), \n",
      "\tFOREIGN KEY(order_id) REFERENCES orders (id) ON DELETE CASCADE ON UPDATE CASCADE\n",
      ")\n",
      "\n",
      "\n",
      "2022-03-30 17:43:49,796 INFO sqlalchemy.engine.Engine [no key 0.00061s] ()\n",
      "2022-03-30 17:43:49,829 INFO sqlalchemy.engine.Engine COMMIT\n"
     ]
    }
   ],
   "source": [
    "\n",
    "# Creates the Base class, which is what all models inherit from and how they get SQLAlchemy ORM functionality.\n",
    "# Once base class is declared, any number of mapped classes can be defined in terms of it (a reference is passed to the class).\n",
    "Base=declarative_base()\n",
    "\n",
    "# Defines the Student class model to the customers database table.\n",
    "# In ORM, the configurational process starts by describing the database tables and then by defining classes which will be mapped to those tables. \n",
    "# In SQLAlchemy, these two tasks are performed together. \n",
    "# A class in Declarative must have a __tablename__ attribute, and at least one Column which is part of a primary key. \n",
    "\n",
    "class Shop(Base):\n",
    "    __tablename__ = 'shops'\n",
    "    id = Column(Integer,primary_key=True)\n",
    "    shop_name = Column(String(40),nullable=False,unique=True)\n",
    "    shop_cuisine = Column(String(40),nullable=False)\n",
    "    shop_addressLine1 = Column(String(20),nullable=False)\n",
    "    shop_postalCode = Column(String(6),nullable=False)\n",
    "    shop_contact = Column(Integer,nullable=False)\n",
    "    items = relationship('Item',secondary='link')\n",
    "\n",
    "class Item(Base):\n",
    "    __tablename__ = 'items'\n",
    "    id = Column(Integer,primary_key=True)\n",
    "    item_name = Column(String(40),nullable=False,unique=True)\n",
    "    item_price = Column(DECIMAL(7,3),nullable=False)\n",
    "    shops = relationship('Shop',secondary='link')\n",
    "    \n",
    "    \n",
    "# Define a Link class. It is linked to link table and contains shop_id and iyem_id attributes respectively referencing to primary keys of shops and items table.\n",
    "class Link(Base):\n",
    "    __tablename__ = 'link'\n",
    "    shop_id = Column(Integer, ForeignKey('shops.id'), primary_key = True)\n",
    "    item_id = Column(Integer, ForeignKey('items.id'), primary_key = True)\n",
    "\n",
    "\n",
    "class Customer(Base):\n",
    "    __tablename__ = 'customers'\n",
    "    id = Column(Integer,primary_key=True)\n",
    "    cust_name = Column(String(30),nullable=False)\n",
    "    cust_email = Column(String(40),nullable=False,unique=True)\n",
    "    cust_addressLine1 = Column(String(40),nullable=False)\n",
    "    cust_postalCode = Column(String(6),nullable=False)\n",
    "    cust_contact = Column(Integer,nullable=False)\n",
    "    placeOrders = relationship('Order',back_populates='custO',cascade = \"all, delete, delete-orphan\")\n",
    "\n",
    "class Order(Base):\n",
    "    __tablename__ = 'orders'\n",
    "    id = Column(Integer,primary_key=True)\n",
    "    cust_id = Column(Integer,ForeignKey('customers.id',ondelete=\"CASCADE\",onupdate=\"CASCADE\"),nullable=False)\n",
    "    item_id = Column(Integer,ForeignKey('items.id'),primary_key=True)\n",
    "    item_qty = Column(Integer,nullable=False)\n",
    "    shop_id = Column(Integer,ForeignKey('shops.id'),primary_key=True)\n",
    "    custO = relationship('Customer',back_populates='placeOrders')\n",
    "\n",
    "\n",
    "class Coupon(Base):\n",
    "    __tablename__ = 'coupons'\n",
    "    coupon_code = Column(String(10),primary_key=True)\n",
    "    coupon_discount = Column(Integer,nullable=False)\n",
    "    coupon_status = Column(String,DefaultClause(\"ACTIVE\"),nullable=False)\n",
    "    coupon_validFrom = Column(Date,nullable=False)\n",
    "    coupon_validTill = Column(Date,nullable=False)\n",
    "\n",
    "class Invoice(Base):\n",
    "    __tablename__ = 'invoice'\n",
    "    invoice_id = Column(Integer,primary_key=True)\n",
    "    order_id = Column(Integer,ForeignKey('orders.id',ondelete=\"CASCADE\",onupdate=\"CASCADE\"),unique=True,nullable=False)\n",
    "    total_amt = Column(DECIMAL(7,3),nullable=False)\n",
    "    discouted_price = Column(DECIMAL(7,3),nullable=False)\n",
    "    coupon_code = Column(String(10),ForeignKey('coupons.coupon_code'))\n",
    "    invoice_date = Column(Date,nullable=False)\n",
    "    \n",
    "    \n",
    "class Feedback(Base):\n",
    "    __tablename__ = 'feedback'\n",
    "    feedback_id = Column(Integer,primary_key=True)\n",
    "    order_id = Column(Integer,ForeignKey('orders.id',ondelete=\"CASCADE\",onupdate=\"CASCADE\"),nullable=False)\n",
    "    feedback_text = Column(String(100),nullable=False)\n",
    "\n",
    "\n",
    "# Each Table object is a member of larger collection known as MetaData and this object is available using the .metadata attribute of declarative base class. \n",
    "# The MetaData.create_all() method is, passing in our Engine as a source of database connectivity. For all tables that haven’t been created yet, it issues CREATE TABLE statements to the database.\n",
    "# Create all tables in the engine. This is equivalent to \"Create Table\"\n",
    "Base.metadata.create_all(engine)"
   ]
  },
  {
   "cell_type": "code",
   "execution_count": null,
   "id": "b8d840b1",
   "metadata": {},
   "outputs": [],
   "source": []
  },
  {
   "cell_type": "markdown",
   "id": "8b98107f",
   "metadata": {},
   "source": [
    "### Creating session object for lchemy and conn object for sqlite which can be used for querying the database as per needed"
   ]
  },
  {
   "cell_type": "code",
   "execution_count": 62,
   "id": "b4c53697",
   "metadata": {},
   "outputs": [],
   "source": [
    "# The Session object enables us to interest with the database (it is a handle to the database)\n",
    "from sqlalchemy.orm import sessionmaker\n",
    "\n",
    "# Session class is defined using sessionmaker(), which is bound to the engine object created earlier\n",
    "Session = sessionmaker(bind = engine)\n"
   ]
  },
  {
   "cell_type": "code",
   "execution_count": null,
   "id": "32ed22c9",
   "metadata": {},
   "outputs": [],
   "source": []
  },
  {
   "cell_type": "markdown",
   "id": "6ea6ac71",
   "metadata": {},
   "source": [
    "### Inserting records into Shop and related items using many to many relashioship and retreiving it by joining multiple tables\n",
    "#### This is many to many relationship (a shop can have multiple items and an item can be present in multiple shops)"
   ]
  },
  {
   "cell_type": "code",
   "execution_count": 63,
   "id": "66ab42f1",
   "metadata": {},
   "outputs": [],
   "source": [
    "#creating cursor for sqlite conneciton and session for alchemy\n",
    "conn1=sqlite3.connect(pathForSQLConn)\n",
    "cur=conn1.cursor()\n",
    "objSession1 = Session()\n"
   ]
  },
  {
   "cell_type": "code",
   "execution_count": null,
   "id": "34ae5f0b",
   "metadata": {},
   "outputs": [],
   "source": []
  },
  {
   "cell_type": "code",
   "execution_count": 64,
   "id": "3d94a837",
   "metadata": {},
   "outputs": [],
   "source": [
    "# Creating objects for each Shop to be added in db\n",
    "shop1 = Shop(shop_name = \"PretManger\", \n",
    "      shop_addressLine1 = \"RedLionLane\",\n",
    "      shop_postalCode='EX46RY',\n",
    "      shop_contact=7826353631,\n",
    "      shop_cuisine='Beverages Hot,Cold')\n",
    "\n",
    "shop2 = Shop(shop_name = \"Subway\", \n",
    "      shop_addressLine1 = \"QueenSTreet\",\n",
    "      shop_postalCode='EX26RY',\n",
    "      shop_contact=7826353632,\n",
    "      shop_cuisine='Sandwiches')\n",
    "\n",
    "shop3 = Shop(shop_name = \"MacD\", \n",
    "      shop_addressLine1 = \"KingSTreet\",\n",
    "      shop_postalCode='EX16RY',\n",
    "      shop_contact=7826353633,\n",
    "      shop_cuisine='Burgers')\n",
    "\n",
    "shop4 = Shop(shop_name = \"PizzaHut\", \n",
    "      shop_addressLine1 = \"JackStreet\",\n",
    "      shop_postalCode='EX66RY',\n",
    "      shop_contact=7826353634,\n",
    "      shop_cuisine='Pizza')\n",
    "\n",
    "shop5 = Shop(shop_name = \"Karma\", \n",
    "      shop_addressLine1 = \"StJamesPark\",\n",
    "      shop_postalCode='EX46RU',\n",
    "      shop_contact=7826353635,\n",
    "      shop_cuisine='IndianChaat')\n",
    "\n",
    "shop6 = Shop(shop_name = \"NamasteExeter\", \n",
    "      shop_addressLine1 = \"Cathedral\",\n",
    "      shop_postalCode='EX46AS',\n",
    "      shop_contact=7826353636,\n",
    "      shop_cuisine='TraditionlIndian')\n",
    "\n",
    "shop7 = Shop(shop_name = \"Phoo\", \n",
    "      shop_addressLine1 = \"ChappelSTreet\",\n",
    "      shop_postalCode='EX46AB',\n",
    "      shop_contact=7826353637,\n",
    "      shop_cuisine='Chineese')"
   ]
  },
  {
   "cell_type": "code",
   "execution_count": 65,
   "id": "e4914091",
   "metadata": {},
   "outputs": [],
   "source": [
    "#Creating objects for each Item to be added in db\n",
    "\n",
    "item1=Item(item_name=\"Latte\",item_price=2.50)\n",
    "item2=Item(item_name=\"Capuchino\",item_price=2.50)\n",
    "item3=Item(item_name=\"Pinapple Smoothie\",item_price=3.00)\n",
    "item4=Item(item_name=\"Hot Chocolate\",item_price=3.25)\n",
    "item5=Item(item_name=\"Chai Latte\",item_price=2.75)\n",
    "item6=Item(item_name=\"Veg Sandwich\",item_price=4)\n",
    "item7=Item(item_name=\"Chicken Sandwich\",item_price=4)\n",
    "item8=Item(item_name=\"Egg Sandwich\",item_price=4)\n",
    "item9=Item(item_name=\"Pork Sandwich\",item_price=4)\n",
    "item10=Item(item_name=\"Lamb Sandwich\",item_price=4)\n",
    "item11=Item(item_name=\"MaC Vegie\",item_price=6)\n",
    "item12=Item(item_name=\"MaC Aloo Tikki\",item_price=6)\n",
    "item13=Item(item_name=\"MaC Chicken\",item_price=6)\n",
    "item14=Item(item_name=\"MaC Puff\",item_price=6)\n",
    "item15=Item(item_name=\"Chicken Nugets\",item_price=6)\n",
    "item16=Item(item_name=\"Veg Paradise Pizza\",item_price=9)\n",
    "item17=Item(item_name=\"Cheese Pizza\",item_price=9)\n",
    "item18=Item(item_name=\"Chicken Pizza\",item_price=9)\n",
    "item19=Item(item_name=\"Mexican Pizza\",item_price=9)\n",
    "item20=Item(item_name=\"Garlick Bread\",item_price=5.50)\n",
    "item21=Item(item_name=\"Paani Puri\",item_price=6)\n",
    "item22=Item(item_name=\"Bhel\",item_price=10)\n",
    "item23=Item(item_name=\"Dahi Puri\",item_price=9)\n",
    "item24=Item(item_name=\"Pav Kachori\",item_price=6.50)\n",
    "item25=Item(item_name=\"Aloo Chaat\",item_price=4)\n",
    "item26=Item(item_name=\"Daal Chawal\",item_price=10)\n",
    "item27=Item(item_name=\"Chole Bhature\",item_price=12)\n",
    "item28=Item(item_name=\"North Indian Thaali\",item_price=15)\n",
    "item29=Item(item_name=\"Maharashtrian Thali\",item_price=15)\n",
    "item30=Item(item_name=\"Chicken Thaali\",item_price=15)\n",
    "item31=Item(item_name=\"Veg Fried Rice\",item_price=8)\n",
    "item32=Item(item_name=\"Chicken Fried Rice\",item_price=9)\n",
    "item33=Item(item_name=\"Veg Hakka Noodles\",item_price=8)\n",
    "item34=Item(item_name=\"Burnt Garlic Rice\",item_price=9)\n",
    "item35=Item(item_name=\"Chicken Noodles\",item_price=9)\n",
    "\n",
    "item36=Item(item_name=\"CokeCan\",item_price=1)\n",
    "item37=Item(item_name=\"PepsiCan\",item_price=1)\n",
    "item38=Item(item_name=\"PepsiMaxCan\",item_price=1)\n",
    "item39=Item(item_name=\"DietCokeCan\",item_price=1)\n",
    "item40=Item(item_name=\"FantaCan\",item_price=1)\n"
   ]
  },
  {
   "cell_type": "code",
   "execution_count": 66,
   "id": "055da90d",
   "metadata": {},
   "outputs": [],
   "source": [
    "#Adding items to shop by using a collection attribute method append()\n",
    "\n",
    "################# adding items which are unique in each shop #################\n",
    "shop1.items.append(item1)\n",
    "shop1.items.append(item2)\n",
    "shop1.items.append(item3)\n",
    "shop1.items.append(item4)\n",
    "shop1.items.append(item5)\n",
    "\n",
    "shop2.items.append(item6)\n",
    "shop2.items.append(item7)\n",
    "shop2.items.append(item8)\n",
    "shop2.items.append(item9)\n",
    "shop2.items.append(item10)\n",
    "\n",
    "shop3.items.append(item11)\n",
    "shop3.items.append(item12)\n",
    "shop3.items.append(item13)\n",
    "shop3.items.append(item14)\n",
    "shop3.items.append(item15)\n",
    "\n",
    "shop4.items.append(item16)\n",
    "shop4.items.append(item17)\n",
    "shop4.items.append(item18)\n",
    "shop4.items.append(item19)\n",
    "shop4.items.append(item20)\n",
    "\n",
    "shop5.items.append(item21)\n",
    "shop5.items.append(item22)\n",
    "shop5.items.append(item23)\n",
    "shop5.items.append(item24)\n",
    "shop5.items.append(item25)\n",
    "\n",
    "shop6.items.append(item26)\n",
    "shop6.items.append(item27)\n",
    "shop6.items.append(item28)\n",
    "shop6.items.append(item29)\n",
    "shop6.items.append(item30)\n",
    "\n",
    "shop7.items.append(item31)\n",
    "shop7.items.append(item32)\n",
    "shop7.items.append(item33)\n",
    "shop7.items.append(item34)\n",
    "shop7.items.append(item35)\n",
    "\n",
    "################# adding items which are available in each shop #################\n",
    "\n",
    "shop1.items.append(item36)\n",
    "shop1.items.append(item37)\n",
    "shop1.items.append(item38)\n",
    "shop1.items.append(item39)\n",
    "shop1.items.append(item40)\n",
    "\n",
    "shop2.items.append(item36)\n",
    "shop2.items.append(item37)\n",
    "shop2.items.append(item38)\n",
    "shop2.items.append(item39)\n",
    "shop2.items.append(item40)\n",
    "\n",
    "shop3.items.append(item36)\n",
    "shop3.items.append(item37)\n",
    "shop3.items.append(item38)\n",
    "shop3.items.append(item39)\n",
    "shop3.items.append(item40)\n",
    "\n",
    "shop4.items.append(item36)\n",
    "shop4.items.append(item37)\n",
    "shop4.items.append(item38)\n",
    "shop4.items.append(item39)\n",
    "shop4.items.append(item40)\n",
    "\n",
    "shop5.items.append(item36)\n",
    "shop5.items.append(item37)\n",
    "shop5.items.append(item38)\n",
    "shop5.items.append(item39)\n",
    "shop5.items.append(item40)\n",
    "\n",
    "shop6.items.append(item36)\n",
    "shop6.items.append(item37)\n",
    "shop6.items.append(item38)\n",
    "shop6.items.append(item39)\n",
    "shop6.items.append(item40)\n",
    "\n",
    "shop7.items.append(item36)\n",
    "shop7.items.append(item37)\n",
    "shop7.items.append(item38)\n",
    "shop7.items.append(item39)\n",
    "shop7.items.append(item40)"
   ]
  },
  {
   "cell_type": "code",
   "execution_count": 67,
   "id": "08cca011",
   "metadata": {},
   "outputs": [
    {
     "name": "stdout",
     "output_type": "stream",
     "text": [
      "2022-03-30 19:15:27,169 INFO sqlalchemy.engine.Engine BEGIN (implicit)\n",
      "2022-03-30 19:15:27,173 INFO sqlalchemy.engine.Engine INSERT INTO items (item_name, item_price) VALUES (?, ?)\n",
      "2022-03-30 19:15:27,174 INFO sqlalchemy.engine.Engine [generated in 0.00110s] ('Latte', 2.5)\n",
      "2022-03-30 19:15:27,175 INFO sqlalchemy.engine.Engine ROLLBACK\n",
      "\n",
      "Shops and items already present.\n"
     ]
    }
   ],
   "source": [
    "try :\n",
    "    objSession1.add(shop1)\n",
    "    objSession1.add(shop2)\n",
    "    objSession1.add(shop3)\n",
    "    objSession1.add(shop4)\n",
    "    objSession1.add(shop5)\n",
    "    objSession1.add(shop6)\n",
    "    objSession1.add(shop7)\n",
    "    objSession1.commit()\n",
    "    print(\"\\nShops and items added successfully.\")\n",
    "\n",
    "except exc.IntegrityError :\n",
    "    objSession1.rollback()\n",
    "    print(\"\\nShops and items already present.\")\n"
   ]
  },
  {
   "cell_type": "code",
   "execution_count": 68,
   "id": "1a7a2bfd",
   "metadata": {},
   "outputs": [
    {
     "name": "stdout",
     "output_type": "stream",
     "text": [
      "2022-03-30 19:15:37,069 INFO sqlalchemy.engine.Engine BEGIN (implicit)\n",
      "2022-03-30 19:15:37,072 INFO sqlalchemy.engine.Engine SELECT shops.id AS shops_id, shops.shop_name AS shops_shop_name, shops.shop_cuisine AS shops_shop_cuisine, shops.\"shop_addressLine1\" AS \"shops_shop_addressLine1\", shops.\"shop_postalCode\" AS \"shops_shop_postalCode\", shops.shop_contact AS shops_shop_contact, items.id AS items_id, items.item_name AS items_item_name, items.item_price AS items_item_price \n",
      "FROM shops, items, link \n",
      "WHERE link.shop_id = shops.id AND link.item_id = items.id ORDER BY link.shop_id, link.item_id\n",
      "2022-03-30 19:15:37,073 INFO sqlalchemy.engine.Engine [generated in 0.00094s] ()\n",
      "ShopID: 1 ShopName: PretManger ItemID: 1 ItemName: Latte ItemPrice:2.500\n",
      "ShopID: 1 ShopName: PretManger ItemID: 2 ItemName: Capuchino ItemPrice:2.500\n",
      "ShopID: 1 ShopName: PretManger ItemID: 3 ItemName: Pinapple Smoothie ItemPrice:3.000\n",
      "ShopID: 1 ShopName: PretManger ItemID: 4 ItemName: Hot Chocolate ItemPrice:3.250\n",
      "ShopID: 1 ShopName: PretManger ItemID: 5 ItemName: Chai Latte ItemPrice:2.750\n",
      "ShopID: 1 ShopName: PretManger ItemID: 6 ItemName: CokeCan ItemPrice:1.000\n",
      "ShopID: 1 ShopName: PretManger ItemID: 7 ItemName: PepsiCan ItemPrice:1.000\n",
      "ShopID: 1 ShopName: PretManger ItemID: 8 ItemName: PepsiMaxCan ItemPrice:1.000\n",
      "ShopID: 1 ShopName: PretManger ItemID: 9 ItemName: DietCokeCan ItemPrice:1.000\n",
      "ShopID: 1 ShopName: PretManger ItemID: 10 ItemName: FantaCan ItemPrice:1.000\n",
      "ShopID: 2 ShopName: Subway ItemID: 6 ItemName: CokeCan ItemPrice:1.000\n",
      "ShopID: 2 ShopName: Subway ItemID: 7 ItemName: PepsiCan ItemPrice:1.000\n",
      "ShopID: 2 ShopName: Subway ItemID: 8 ItemName: PepsiMaxCan ItemPrice:1.000\n",
      "ShopID: 2 ShopName: Subway ItemID: 9 ItemName: DietCokeCan ItemPrice:1.000\n",
      "ShopID: 2 ShopName: Subway ItemID: 10 ItemName: FantaCan ItemPrice:1.000\n",
      "ShopID: 2 ShopName: Subway ItemID: 11 ItemName: Veg Sandwich ItemPrice:4.000\n",
      "ShopID: 2 ShopName: Subway ItemID: 12 ItemName: Chicken Sandwich ItemPrice:4.000\n",
      "ShopID: 2 ShopName: Subway ItemID: 13 ItemName: Egg Sandwich ItemPrice:4.000\n",
      "ShopID: 2 ShopName: Subway ItemID: 14 ItemName: Pork Sandwich ItemPrice:4.000\n",
      "ShopID: 2 ShopName: Subway ItemID: 15 ItemName: Lamb Sandwich ItemPrice:4.000\n",
      "ShopID: 3 ShopName: MacD ItemID: 6 ItemName: CokeCan ItemPrice:1.000\n",
      "ShopID: 3 ShopName: MacD ItemID: 7 ItemName: PepsiCan ItemPrice:1.000\n",
      "ShopID: 3 ShopName: MacD ItemID: 8 ItemName: PepsiMaxCan ItemPrice:1.000\n",
      "ShopID: 3 ShopName: MacD ItemID: 9 ItemName: DietCokeCan ItemPrice:1.000\n",
      "ShopID: 3 ShopName: MacD ItemID: 10 ItemName: FantaCan ItemPrice:1.000\n",
      "ShopID: 3 ShopName: MacD ItemID: 16 ItemName: MaC Vegie ItemPrice:6.000\n",
      "ShopID: 3 ShopName: MacD ItemID: 17 ItemName: MaC Aloo Tikki ItemPrice:6.000\n",
      "ShopID: 3 ShopName: MacD ItemID: 18 ItemName: MaC Chicken ItemPrice:6.000\n",
      "ShopID: 3 ShopName: MacD ItemID: 19 ItemName: MaC Puff ItemPrice:6.000\n",
      "ShopID: 3 ShopName: MacD ItemID: 20 ItemName: Chicken Nugets ItemPrice:6.000\n",
      "ShopID: 4 ShopName: PizzaHut ItemID: 6 ItemName: CokeCan ItemPrice:1.000\n",
      "ShopID: 4 ShopName: PizzaHut ItemID: 7 ItemName: PepsiCan ItemPrice:1.000\n",
      "ShopID: 4 ShopName: PizzaHut ItemID: 8 ItemName: PepsiMaxCan ItemPrice:1.000\n",
      "ShopID: 4 ShopName: PizzaHut ItemID: 9 ItemName: DietCokeCan ItemPrice:1.000\n",
      "ShopID: 4 ShopName: PizzaHut ItemID: 10 ItemName: FantaCan ItemPrice:1.000\n",
      "ShopID: 4 ShopName: PizzaHut ItemID: 21 ItemName: Veg Paradise Pizza ItemPrice:9.000\n",
      "ShopID: 4 ShopName: PizzaHut ItemID: 22 ItemName: Cheese Pizza ItemPrice:9.000\n",
      "ShopID: 4 ShopName: PizzaHut ItemID: 23 ItemName: Chicken Pizza ItemPrice:9.000\n",
      "ShopID: 4 ShopName: PizzaHut ItemID: 24 ItemName: Mexican Pizza ItemPrice:9.000\n",
      "ShopID: 4 ShopName: PizzaHut ItemID: 25 ItemName: Garlick Bread ItemPrice:5.500\n",
      "ShopID: 5 ShopName: Karma ItemID: 6 ItemName: CokeCan ItemPrice:1.000\n",
      "ShopID: 5 ShopName: Karma ItemID: 7 ItemName: PepsiCan ItemPrice:1.000\n",
      "ShopID: 5 ShopName: Karma ItemID: 8 ItemName: PepsiMaxCan ItemPrice:1.000\n",
      "ShopID: 5 ShopName: Karma ItemID: 9 ItemName: DietCokeCan ItemPrice:1.000\n",
      "ShopID: 5 ShopName: Karma ItemID: 10 ItemName: FantaCan ItemPrice:1.000\n",
      "ShopID: 5 ShopName: Karma ItemID: 26 ItemName: Paani Puri ItemPrice:6.000\n",
      "ShopID: 5 ShopName: Karma ItemID: 27 ItemName: Bhel ItemPrice:10.000\n",
      "ShopID: 5 ShopName: Karma ItemID: 28 ItemName: Dahi Puri ItemPrice:9.000\n",
      "ShopID: 5 ShopName: Karma ItemID: 29 ItemName: Pav Kachori ItemPrice:6.500\n",
      "ShopID: 5 ShopName: Karma ItemID: 30 ItemName: Aloo Chaat ItemPrice:4.000\n",
      "ShopID: 6 ShopName: NamasteExeter ItemID: 6 ItemName: CokeCan ItemPrice:1.000\n",
      "ShopID: 6 ShopName: NamasteExeter ItemID: 7 ItemName: PepsiCan ItemPrice:1.000\n",
      "ShopID: 6 ShopName: NamasteExeter ItemID: 8 ItemName: PepsiMaxCan ItemPrice:1.000\n",
      "ShopID: 6 ShopName: NamasteExeter ItemID: 9 ItemName: DietCokeCan ItemPrice:1.000\n",
      "ShopID: 6 ShopName: NamasteExeter ItemID: 10 ItemName: FantaCan ItemPrice:1.000\n",
      "ShopID: 6 ShopName: NamasteExeter ItemID: 31 ItemName: Daal Chawal ItemPrice:10.000\n",
      "ShopID: 6 ShopName: NamasteExeter ItemID: 32 ItemName: Chole Bhature ItemPrice:12.000\n",
      "ShopID: 6 ShopName: NamasteExeter ItemID: 33 ItemName: North Indian Thaali ItemPrice:15.000\n",
      "ShopID: 6 ShopName: NamasteExeter ItemID: 34 ItemName: Maharashtrian Thali ItemPrice:15.000\n",
      "ShopID: 6 ShopName: NamasteExeter ItemID: 35 ItemName: Chicken Thaali ItemPrice:15.000\n",
      "ShopID: 7 ShopName: Phoo ItemID: 6 ItemName: CokeCan ItemPrice:1.000\n",
      "ShopID: 7 ShopName: Phoo ItemID: 7 ItemName: PepsiCan ItemPrice:1.000\n",
      "ShopID: 7 ShopName: Phoo ItemID: 8 ItemName: PepsiMaxCan ItemPrice:1.000\n",
      "ShopID: 7 ShopName: Phoo ItemID: 9 ItemName: DietCokeCan ItemPrice:1.000\n",
      "ShopID: 7 ShopName: Phoo ItemID: 10 ItemName: FantaCan ItemPrice:1.000\n",
      "ShopID: 7 ShopName: Phoo ItemID: 36 ItemName: Veg Fried Rice ItemPrice:8.000\n",
      "ShopID: 7 ShopName: Phoo ItemID: 37 ItemName: Chicken Fried Rice ItemPrice:9.000\n",
      "ShopID: 7 ShopName: Phoo ItemID: 38 ItemName: Veg Hakka Noodles ItemPrice:8.000\n",
      "ShopID: 7 ShopName: Phoo ItemID: 39 ItemName: Burnt Garlic Rice ItemPrice:9.000\n",
      "ShopID: 7 ShopName: Phoo ItemID: 40 ItemName: Chicken Noodles ItemPrice:9.000\n"
     ]
    },
    {
     "name": "stderr",
     "output_type": "stream",
     "text": [
      "C:\\Users\\tejas\\AppData\\Local\\Temp/ipykernel_16736/2265830926.py:3: SAWarning: Dialect sqlite+pysqlite does *not* support Decimal objects natively, and SQLAlchemy must convert from floating point - rounding errors and other issues may occur. Please consider storing Decimal numbers as strings or integers on this platform for lossless storage.\n",
      "  for shopItem in objSession1.query(Shop, Item).filter(Link.shop_id == Shop.id,\n"
     ]
    }
   ],
   "source": [
    "#Retreiving items provided by each shop using join over multiple tables\n",
    "\n",
    "for shopItem in objSession1.query(Shop, Item).filter(Link.shop_id == Shop.id, \n",
    "   Link.item_id == Item.id).order_by(Link.shop_id,Link.item_id).all():\n",
    "    print (\"ShopID: {} ShopName: {} ItemID: {} ItemName: {} ItemPrice:{}\".format(shopItem.Shop.id,shopItem.Shop.shop_name,shopItem.Item.id,shopItem.Item.item_name,shopItem.Item.item_price))\n"
   ]
  },
  {
   "cell_type": "code",
   "execution_count": 69,
   "id": "58f43202",
   "metadata": {},
   "outputs": [
    {
     "name": "stdout",
     "output_type": "stream",
     "text": [
      "2022-03-30 19:15:45,130 INFO sqlalchemy.engine.Engine ROLLBACK\n"
     ]
    },
    {
     "name": "stderr",
     "output_type": "stream",
     "text": [
      "C:\\Users\\tejas\\AppData\\Local\\Temp/ipykernel_16736/465161591.py:2: SADeprecationWarning: The Session.close_all() method is deprecated and will be removed in a future release.  Please refer to session.close_all_sessions(). (deprecated since: 1.3)\n",
      "  objSession1.close_all()\n"
     ]
    }
   ],
   "source": [
    "#closing open connections and sessions to avoid db curruption\n",
    "objSession1.close_all()\n",
    "conn1.close()"
   ]
  },
  {
   "cell_type": "code",
   "execution_count": null,
   "id": "5d255344",
   "metadata": {},
   "outputs": [],
   "source": []
  },
  {
   "cell_type": "markdown",
   "id": "23f32a2d",
   "metadata": {},
   "source": [
    "### Registering Coupon Codes and retreiving registered coupons"
   ]
  },
  {
   "cell_type": "code",
   "execution_count": 71,
   "id": "d3f38bfe",
   "metadata": {},
   "outputs": [],
   "source": [
    "conn2=sqlite3.connect(pathForSQLConn)\n",
    "cur=conn2.cursor()\n",
    "objSession2 = Session()"
   ]
  },
  {
   "cell_type": "code",
   "execution_count": 14,
   "id": "d640d1a3",
   "metadata": {},
   "outputs": [
    {
     "name": "stdout",
     "output_type": "stream",
     "text": [
      "2022-03-30 17:45:23,248 INFO sqlalchemy.engine.Engine BEGIN (implicit)\n",
      "2022-03-30 17:45:23,250 INFO sqlalchemy.engine.Engine INSERT INTO coupons (coupon_code, coupon_discount, \"coupon_validFrom\", \"coupon_validTill\") VALUES (?, ?, ?, ?)\n",
      "2022-03-30 17:45:23,251 INFO sqlalchemy.engine.Engine [generated in 0.00102s] (('ONLINEFOOD001', 10, '2021-03-22', '2022-03-21'), ('ONLINEFOOD002', 10, '2022-03-22', '2022-04-21'), ('ONLINEFOOD003', 10, '2022-03-22', '2022-04-21'), ('ONLINEFOOD004', 25, '2022-03-22', '2022-04-21'), ('ONLINEFOOD005', 25, '2022-03-22', '2022-04-21'), ('ONLINEFOOD006', 25, '2022-03-22', '2022-04-21'), ('ONLINEFOOD007', 50, '2022-03-22', '2022-04-01'), ('ONLINEFOOD008', 50, '2022-03-22', '2022-04-02')  ... displaying 10 of 14 total bound parameter sets ...  ('ONLINEFOOD013', 50, '2022-03-22', '2022-04-02'), ('ONLINEFOOD014', 50, '2022-03-22', '2022-04-02'))\n",
      "2022-03-30 17:45:23,253 INFO sqlalchemy.engine.Engine COMMIT\n",
      "\n",
      "Coupons added successfully\n"
     ]
    }
   ],
   "source": [
    "try:\n",
    "    objSession2.add_all([\n",
    "    Coupon(coupon_code='ONLINEFOOD001',coupon_discount=10,coupon_validFrom=datetime.date(2021,3,22),coupon_validTill=datetime.date(2022,3,21)),\n",
    "    Coupon(coupon_code='ONLINEFOOD002',coupon_discount=10,coupon_validFrom=datetime.date(2022,3,22),coupon_validTill=datetime.date(2022,4,21)),\n",
    "    Coupon(coupon_code='ONLINEFOOD003',coupon_discount=10,coupon_validFrom=datetime.date(2022,3,22),coupon_validTill=datetime.date(2022,4,21)),\n",
    "    Coupon(coupon_code='ONLINEFOOD004',coupon_discount=25,coupon_validFrom=datetime.date(2022,3,22),coupon_validTill=datetime.date(2022,4,21)),\n",
    "    Coupon(coupon_code='ONLINEFOOD005',coupon_discount=25,coupon_validFrom=datetime.date(2022,3,22),coupon_validTill=datetime.date(2022,4,21)),\n",
    "    Coupon(coupon_code='ONLINEFOOD006',coupon_discount=25,coupon_validFrom=datetime.date(2022,3,22),coupon_validTill=datetime.date(2022,4,21)),\n",
    "    Coupon(coupon_code='ONLINEFOOD007',coupon_discount=50,coupon_validFrom=datetime.date(2022,3,22),coupon_validTill=datetime.date(2022,4,1)),\n",
    "    Coupon(coupon_code='ONLINEFOOD008',coupon_discount=50,coupon_validFrom=datetime.date(2022,3,22),coupon_validTill=datetime.date(2022,4,2)),\n",
    "    Coupon(coupon_code='ONLINEFOOD009',coupon_discount=50,coupon_validFrom=datetime.date(2022,3,22),coupon_validTill=datetime.date(2022,4,2)),\n",
    "    Coupon(coupon_code='ONLINEFOOD010',coupon_discount=50,coupon_validFrom=datetime.date(2022,3,22),coupon_validTill=datetime.date(2022,4,2)),\n",
    "    Coupon(coupon_code='ONLINEFOOD011',coupon_discount=50,coupon_validFrom=datetime.date(2022,3,22),coupon_validTill=datetime.date(2022,4,2)),\n",
    "    Coupon(coupon_code='ONLINEFOOD012',coupon_discount=50,coupon_validFrom=datetime.date(2022,3,22),coupon_validTill=datetime.date(2022,4,2)),\n",
    "    Coupon(coupon_code='ONLINEFOOD013',coupon_discount=50,coupon_validFrom=datetime.date(2022,3,22),coupon_validTill=datetime.date(2022,4,2)),\n",
    "    Coupon(coupon_code='ONLINEFOOD014',coupon_discount=50,coupon_validFrom=datetime.date(2022,3,22),coupon_validTill=datetime.date(2022,4,2))\n",
    "    ])\n",
    "    objSession2.commit()\n",
    "    print(\"\\nCoupons added successfully\")\n",
    "\n",
    "except exc.IntegrityError :\n",
    "    objSession2.rollback()\n",
    "    print(\"\\nCoupon already exists.\")\n"
   ]
  },
  {
   "cell_type": "code",
   "execution_count": 15,
   "id": "18379492",
   "metadata": {},
   "outputs": [
    {
     "name": "stdout",
     "output_type": "stream",
     "text": [
      "2022-03-30 17:45:34,454 INFO sqlalchemy.engine.Engine BEGIN (implicit)\n",
      "2022-03-30 17:45:34,455 INFO sqlalchemy.engine.Engine UPDATE coupons SET coupon_status=? WHERE coupons.\"coupon_validTill\" < ?\n",
      "2022-03-30 17:45:34,456 INFO sqlalchemy.engine.Engine [generated in 0.00057s] ('EXPIRED', '2022-03-30')\n",
      "2022-03-30 17:45:34,458 INFO sqlalchemy.engine.Engine COMMIT\n",
      "\n",
      "Status Update Complete\n"
     ]
    }
   ],
   "source": [
    "#Update expired coupon status\n",
    "def updateCouponStatus(objSession):\n",
    "    objSession.query(Coupon).filter(datetime.date.today()>Coupon.coupon_validTill).update({Coupon.coupon_status:'EXPIRED'}, synchronize_session = False)\n",
    "    objSession.commit()\n",
    "    return print(\"\\nStatus Update Complete\")\n",
    "\n",
    "updateCouponStatus(objSession2)"
   ]
  },
  {
   "cell_type": "code",
   "execution_count": 72,
   "id": "d007bff3",
   "metadata": {},
   "outputs": [
    {
     "name": "stdout",
     "output_type": "stream",
     "text": [
      "2022-03-30 19:16:07,814 INFO sqlalchemy.engine.Engine BEGIN (implicit)\n",
      "2022-03-30 19:16:07,815 INFO sqlalchemy.engine.Engine SELECT coupons.coupon_code AS coupons_coupon_code, coupons.coupon_discount AS coupons_coupon_discount, coupons.coupon_status AS coupons_coupon_status, coupons.\"coupon_validFrom\" AS \"coupons_coupon_validFrom\", coupons.\"coupon_validTill\" AS \"coupons_coupon_validTill\" \n",
      "FROM coupons\n",
      "2022-03-30 19:16:07,815 INFO sqlalchemy.engine.Engine [generated in 0.00047s] ()\n",
      "CouponCode: ONLINEFOOD001 DiscountOffered: 10 ValidFrom: 2021-03-22 ValidTill: 2022-03-21 Status: EXPIRED\n",
      "CouponCode: ONLINEFOOD002 DiscountOffered: 10 ValidFrom: 2022-03-22 ValidTill: 2022-04-21 Status: ACTIVE\n",
      "CouponCode: ONLINEFOOD003 DiscountOffered: 10 ValidFrom: 2022-03-22 ValidTill: 2022-04-21 Status: ACTIVE\n",
      "CouponCode: ONLINEFOOD004 DiscountOffered: 25 ValidFrom: 2022-03-22 ValidTill: 2022-04-21 Status: ACTIVE\n",
      "CouponCode: ONLINEFOOD005 DiscountOffered: 25 ValidFrom: 2022-03-22 ValidTill: 2022-04-21 Status: ACTIVE\n",
      "CouponCode: ONLINEFOOD006 DiscountOffered: 25 ValidFrom: 2022-03-22 ValidTill: 2022-04-21 Status: ACTIVE\n",
      "CouponCode: ONLINEFOOD007 DiscountOffered: 50 ValidFrom: 2022-03-22 ValidTill: 2022-04-01 Status: ACTIVE\n",
      "CouponCode: ONLINEFOOD008 DiscountOffered: 50 ValidFrom: 2022-03-22 ValidTill: 2022-04-02 Status: ACTIVE\n",
      "CouponCode: ONLINEFOOD009 DiscountOffered: 50 ValidFrom: 2022-03-22 ValidTill: 2022-04-02 Status: ACTIVE\n",
      "CouponCode: ONLINEFOOD010 DiscountOffered: 50 ValidFrom: 2022-03-22 ValidTill: 2022-04-02 Status: ACTIVE\n",
      "CouponCode: ONLINEFOOD011 DiscountOffered: 50 ValidFrom: 2022-03-22 ValidTill: 2022-04-02 Status: ACTIVE\n",
      "CouponCode: ONLINEFOOD012 DiscountOffered: 50 ValidFrom: 2022-03-22 ValidTill: 2022-04-02 Status: ACTIVE\n",
      "CouponCode: ONLINEFOOD013 DiscountOffered: 50 ValidFrom: 2022-03-22 ValidTill: 2022-04-02 Status: ACTIVE\n",
      "CouponCode: ONLINEFOOD014 DiscountOffered: 50 ValidFrom: 2022-03-22 ValidTill: 2022-04-02 Status: ACTIVE\n"
     ]
    }
   ],
   "source": [
    "# Displaying all coupons with their Validity dates\n",
    "registeredCoupons = objSession2.query(Coupon).all()\n",
    "for cpn in registeredCoupons:\n",
    "    print(\"CouponCode:\",cpn.coupon_code, \"DiscountOffered:\",cpn.coupon_discount, \"ValidFrom:\",cpn.coupon_validFrom, \"ValidTill:\",cpn.coupon_validTill, \"Status:\",cpn.coupon_status)\n"
   ]
  },
  {
   "cell_type": "code",
   "execution_count": 73,
   "id": "1d9b9763",
   "metadata": {},
   "outputs": [
    {
     "name": "stdout",
     "output_type": "stream",
     "text": [
      "2022-03-30 19:16:13,583 INFO sqlalchemy.engine.Engine ROLLBACK\n"
     ]
    },
    {
     "name": "stderr",
     "output_type": "stream",
     "text": [
      "C:\\Users\\tejas\\AppData\\Local\\Temp/ipykernel_16736/1054587198.py:2: SADeprecationWarning: The Session.close_all() method is deprecated and will be removed in a future release.  Please refer to session.close_all_sessions(). (deprecated since: 1.3)\n",
      "  objSession2.close_all()\n"
     ]
    }
   ],
   "source": [
    "#closing open connections and sessions to avoid db curruption\n",
    "objSession2.close_all()\n",
    "conn2.close()"
   ]
  },
  {
   "cell_type": "code",
   "execution_count": null,
   "id": "d7b23e6c",
   "metadata": {},
   "outputs": [],
   "source": []
  },
  {
   "cell_type": "markdown",
   "id": "578e4382",
   "metadata": {},
   "source": [
    "### Creating an order - One to many relationship (One customer can give multiple orders  and each having multiple items) and Retreiving orders by joining multiple tables\n"
   ]
  },
  {
   "cell_type": "markdown",
   "id": "c0801623",
   "metadata": {},
   "source": [
    "#### Manual insertion of Customer and Orders using relationship established with the help of backpopulates"
   ]
  },
  {
   "cell_type": "code",
   "execution_count": 75,
   "id": "e0b4c31e",
   "metadata": {},
   "outputs": [],
   "source": [
    "#creating cursor for sqlite conneciton and session for alchemy\n",
    "conn3=sqlite3.connect(pathForSQLConn)\n",
    "cur=conn3.cursor()\n",
    "objSession3 = Session()\n"
   ]
  },
  {
   "cell_type": "code",
   "execution_count": 19,
   "id": "e9242df3",
   "metadata": {},
   "outputs": [
    {
     "name": "stdout",
     "output_type": "stream",
     "text": [
      "2022-03-30 17:46:10,015 INFO sqlalchemy.engine.Engine BEGIN (implicit)\n",
      "2022-03-30 17:46:10,016 INFO sqlalchemy.engine.Engine INSERT INTO customers (cust_name, cust_email, \"cust_addressLine1\", \"cust_postalCode\", cust_contact) VALUES (?, ?, ?, ?, ?)\n",
      "2022-03-30 17:46:10,016 INFO sqlalchemy.engine.Engine [generated in 0.00049s] ('Sai', 'sai.chakraborty@exe.in', '125 Red Lion Lane', 'EX46RY', 7826353601)\n",
      "2022-03-30 17:46:10,019 INFO sqlalchemy.engine.Engine INSERT INTO customers (cust_name, cust_email, \"cust_addressLine1\", \"cust_postalCode\", cust_contact) VALUES (?, ?, ?, ?, ?)\n",
      "2022-03-30 17:46:10,020 INFO sqlalchemy.engine.Engine [cached since 0.004334s ago] ('Tejas', 'tejas.kale@exe.in', '125 Red Lion Lane', 'EX46RY', 7826353633)\n",
      "2022-03-30 17:46:10,021 INFO sqlalchemy.engine.Engine INSERT INTO customers (cust_name, cust_email, \"cust_addressLine1\", \"cust_postalCode\", cust_contact) VALUES (?, ?, ?, ?, ?)\n",
      "2022-03-30 17:46:10,021 INFO sqlalchemy.engine.Engine [cached since 0.005364s ago] ('Ayush', 'ayush.mishra@exe.in', 'exeter 1', 'EX67RY', 7926353601)\n",
      "2022-03-30 17:46:10,022 INFO sqlalchemy.engine.Engine INSERT INTO customers (cust_name, cust_email, \"cust_addressLine1\", \"cust_postalCode\", cust_contact) VALUES (?, ?, ?, ?, ?)\n",
      "2022-03-30 17:46:10,023 INFO sqlalchemy.engine.Engine [cached since 0.006934s ago] ('Ravi', 'ravi,janu@exe.in', 'st david', 'EX75RY', 7826353833)\n",
      "2022-03-30 17:46:10,023 INFO sqlalchemy.engine.Engine INSERT INTO customers (cust_name, cust_email, \"cust_addressLine1\", \"cust_postalCode\", cust_contact) VALUES (?, ?, ?, ?, ?)\n",
      "2022-03-30 17:46:10,024 INFO sqlalchemy.engine.Engine [cached since 0.007874s ago] ('Apurva', 'apurva.singh@exe.in', '134 sidwell', 'EX90RY', 7955353601)\n",
      "2022-03-30 17:46:10,024 INFO sqlalchemy.engine.Engine INSERT INTO customers (cust_name, cust_email, \"cust_addressLine1\", \"cust_postalCode\", cust_contact) VALUES (?, ?, ?, ?, ?)\n",
      "2022-03-30 17:46:10,025 INFO sqlalchemy.engine.Engine [cached since 0.008871s ago] ('Amish', 'amish.shah@exe.in', 'st david', 'EX01RY', 7926357551)\n",
      "2022-03-30 17:46:10,025 INFO sqlalchemy.engine.Engine INSERT INTO customers (cust_name, cust_email, \"cust_addressLine1\", \"cust_postalCode\", cust_contact) VALUES (?, ?, ?, ?, ?)\n",
      "2022-03-30 17:46:10,026 INFO sqlalchemy.engine.Engine [cached since 0.009697s ago] ('Shriya', 'shriya.johari@exe.in', 'EX 1', 'EX87RY', 7926358911)\n",
      "2022-03-30 17:46:10,026 INFO sqlalchemy.engine.Engine INSERT INTO customers (cust_name, cust_email, \"cust_addressLine1\", \"cust_postalCode\", cust_contact) VALUES (?, ?, ?, ?, ?)\n",
      "2022-03-30 17:46:10,027 INFO sqlalchemy.engine.Engine [cached since 0.0106s ago] ('Gulam', 'gulam.khan@exe.in', 'The Gandhi', 'EX34RY', 7900358911)\n",
      "2022-03-30 17:46:10,027 INFO sqlalchemy.engine.Engine INSERT INTO customers (cust_name, cust_email, \"cust_addressLine1\", \"cust_postalCode\", cust_contact) VALUES (?, ?, ?, ?, ?)\n",
      "2022-03-30 17:46:10,027 INFO sqlalchemy.engine.Engine [cached since 0.01152s ago] ('Divyansh', 'divyansh.upasani@exe.in', '125 Red Lion Lane', 'EX46RY', 7826363636)\n",
      "2022-03-30 17:46:10,030 INFO sqlalchemy.engine.Engine INSERT INTO orders (id, cust_id, item_id, item_qty, shop_id) VALUES (?, ?, ?, ?, ?)\n",
      "2022-03-30 17:46:10,031 INFO sqlalchemy.engine.Engine [generated in 0.00066s] ((1, 1, 1, 2, 1), (1, 1, 2, 1, 1), (1, 1, 8, 1, 1), (2, 2, 6, 2, 1), (2, 2, 6, 2, 2), (2, 2, 11, 2, 2), (3, 2, 16, 2, 3), (3, 2, 17, 2, 3)  ... displaying 10 of 52 total bound parameter sets ...  (20, 9, 32, 2, 6), (20, 9, 33, 2, 6))\n",
      "2022-03-30 17:46:10,033 INFO sqlalchemy.engine.Engine COMMIT\n"
     ]
    }
   ],
   "source": [
    "#Creating orders for a customer using one to many relationship.\n",
    "#Inserting data into multiple tables using the established relationship\n",
    "\n",
    "rows = [\n",
    "   Customer(\n",
    "      cust_name = \"Sai\",\n",
    "      cust_email='sai.chakraborty@exe.in',\n",
    "      cust_addressLine1='125 Red Lion Lane',\n",
    "      cust_postalCode='EX46RY',\n",
    "      cust_contact=7826353601,\n",
    "      placeOrders = [Order(id=1,item_id=1,item_qty=2,shop_id=1),\n",
    "                     Order(id=1,item_id=2,item_qty=1,shop_id=1),\n",
    "                     Order(id=1,item_id=8,item_qty=1,shop_id=1)\n",
    "               ]\n",
    "       ),\n",
    "    Customer(\n",
    "      cust_name = \"Tejas\",\n",
    "      cust_email='tejas.kale@exe.in',\n",
    "      cust_addressLine1='125 Red Lion Lane',\n",
    "      cust_postalCode='EX46RY',\n",
    "      cust_contact=7826353633,\n",
    "      placeOrders = [Order(id=2,item_id=6,item_qty=2,shop_id=1),\n",
    "                     Order(id=2,item_id=6,item_qty=2,shop_id=2),\n",
    "                     Order(id=2,item_id=11,item_qty=2,shop_id=2),\n",
    "                     Order(id=3,item_id=16,item_qty=2,shop_id=3),\n",
    "                     Order(id=3,item_id=17,item_qty=2,shop_id=3),\n",
    "                     Order(id=3,item_id=18,item_qty=2,shop_id=3)\n",
    "               ]\n",
    "       ),\n",
    "    Customer(\n",
    "      cust_name = \"Ayush\",\n",
    "      cust_email='ayush.mishra@exe.in',\n",
    "      cust_addressLine1='exeter 1',\n",
    "      cust_postalCode='EX67RY',\n",
    "      cust_contact=7926353601,\n",
    "      placeOrders = [Order(id=4,item_id=6,item_qty=1,shop_id=4),\n",
    "                     Order(id=4,item_id=21,item_qty=2,shop_id=4),\n",
    "                     Order(id=5,item_id=22,item_qty=1,shop_id=4),\n",
    "                     Order(id=6,item_id=36,item_qty=2,shop_id=7),\n",
    "                     Order(id=6,item_id=37,item_qty=2,shop_id=7),\n",
    "                     Order(id=6,item_id=39,item_qty=3,shop_id=7)\n",
    "               ]\n",
    "       ),\n",
    "    Customer(\n",
    "      cust_name = \"Ravi\",\n",
    "      cust_email='ravi,janu@exe.in',\n",
    "      cust_addressLine1='st david',\n",
    "      cust_postalCode='EX75RY',\n",
    "      cust_contact=7826353833,\n",
    "      placeOrders = [Order(id=7,item_id=1,item_qty=2,shop_id=1),\n",
    "                     Order(id=7,item_id=11,item_qty=2,shop_id=2),\n",
    "                     Order(id=7,item_id=16,item_qty=2,shop_id=3),\n",
    "                     Order(id=7,item_id=21,item_qty=2,shop_id=4),\n",
    "                     Order(id=7,item_id=26,item_qty=2,shop_id=5),\n",
    "                     Order(id=7,item_id=31,item_qty=2,shop_id=6),\n",
    "                     Order(id=7,item_id=36,item_qty=2,shop_id=7)\n",
    "               ]\n",
    "       ),\n",
    "    Customer(\n",
    "      cust_name = \"Apurva\",\n",
    "      cust_email='apurva.singh@exe.in',\n",
    "      cust_addressLine1='134 sidwell',\n",
    "      cust_postalCode='EX90RY',\n",
    "      cust_contact=7955353601,\n",
    "      placeOrders = [Order(id=8,item_id=8,item_qty=2,shop_id=1),\n",
    "                     Order(id=8,item_id=9,item_qty=2,shop_id=1),\n",
    "                     Order(id=8,item_id=38,item_qty=2,shop_id=7),\n",
    "                     Order(id=9,item_id=31,item_qty=2,shop_id=6),\n",
    "                     Order(id=9,item_id=32,item_qty=2,shop_id=6),\n",
    "                     Order(id=9,item_id=33,item_qty=2,shop_id=6)\n",
    "               ]\n",
    "       ),\n",
    "    Customer(\n",
    "      cust_name = \"Amish\",\n",
    "      cust_email='amish.shah@exe.in',\n",
    "      cust_addressLine1='st david',\n",
    "      cust_postalCode='EX01RY',\n",
    "      cust_contact=7926357551,\n",
    "      placeOrders = [Order(id=10,item_id=38,item_qty=2,shop_id=7),\n",
    "                     Order(id=11,item_id=38,item_qty=2,shop_id=7),\n",
    "                     Order(id=12,item_id=38,item_qty=2,shop_id=7),\n",
    "                     Order(id=13,item_id=38,item_qty=2,shop_id=7),\n",
    "                     Order(id=14,item_id=38,item_qty=2,shop_id=7),\n",
    "                     Order(id=15,item_id=38,item_qty=2,shop_id=7)\n",
    "               ]\n",
    "       ),\n",
    "    Customer(\n",
    "      cust_name = \"Shriya\",\n",
    "      cust_email='shriya.johari@exe.in',\n",
    "      cust_addressLine1='EX 1',\n",
    "      cust_postalCode='EX87RY',\n",
    "      cust_contact=7926358911,\n",
    "      placeOrders = [Order(id=16,item_id=8,item_qty=2,shop_id=1),\n",
    "                     Order(id=16,item_id=9,item_qty=2,shop_id=1),\n",
    "                     Order(id=16,item_id=38,item_qty=2,shop_id=7),\n",
    "                     Order(id=17,item_id=31,item_qty=2,shop_id=6),\n",
    "                     Order(id=17,item_id=32,item_qty=2,shop_id=6),\n",
    "                     Order(id=17,item_id=33,item_qty=2,shop_id=6)\n",
    "               ]\n",
    "       ),\n",
    "    Customer(\n",
    "      cust_name = \"Gulam\",\n",
    "      cust_email='gulam.khan@exe.in',\n",
    "      cust_addressLine1='The Gandhi',\n",
    "      cust_postalCode='EX34RY',\n",
    "      cust_contact=7900358911,\n",
    "      placeOrders = [Order(id=18,item_id=8,item_qty=2,shop_id=1),\n",
    "                     Order(id=18,item_id=9,item_qty=2,shop_id=1),\n",
    "                     Order(id=18,item_id=38,item_qty=2,shop_id=7),\n",
    "                     Order(id=18,item_id=31,item_qty=2,shop_id=6),\n",
    "                     Order(id=18,item_id=32,item_qty=2,shop_id=6),\n",
    "                     Order(id=18,item_id=33,item_qty=2,shop_id=6)\n",
    "               ]\n",
    "       ),\n",
    "    Customer(\n",
    "      cust_name = \"Divyansh\",\n",
    "      cust_email='divyansh.upasani@exe.in',\n",
    "      cust_addressLine1='125 Red Lion Lane',\n",
    "      cust_postalCode='EX46RY',\n",
    "      cust_contact=7826363636,\n",
    "      placeOrders = [Order(id=19,item_id=8,item_qty=2,shop_id=1),\n",
    "                     Order(id=19,item_id=9,item_qty=2,shop_id=1),\n",
    "                     Order(id=19,item_id=38,item_qty=2,shop_id=7),\n",
    "                     Order(id=20,item_id=31,item_qty=2,shop_id=6),\n",
    "                     Order(id=20,item_id=32,item_qty=2,shop_id=6),\n",
    "                     Order(id=20,item_id=33,item_qty=2,shop_id=6)\n",
    "               ]\n",
    "       )\n",
    "]\n",
    "\n",
    "try :\n",
    "    objSession3.add_all(rows)\n",
    "    objSession3.commit()\n",
    "\n",
    "except exc.IntegrityError:\n",
    "    objSession3.rollback()\n",
    "    print(\"\\nCustomer and order ID already exist\")"
   ]
  },
  {
   "cell_type": "code",
   "execution_count": 76,
   "id": "1f53f9a1",
   "metadata": {},
   "outputs": [
    {
     "name": "stdout",
     "output_type": "stream",
     "text": [
      "2022-03-30 19:16:30,702 INFO sqlalchemy.engine.Engine BEGIN (implicit)\n",
      "2022-03-30 19:16:30,705 INFO sqlalchemy.engine.Engine SELECT customers.id AS customers_id, customers.cust_name AS customers_cust_name, customers.cust_email AS customers_cust_email, customers.\"cust_addressLine1\" AS \"customers_cust_addressLine1\", customers.\"cust_postalCode\" AS \"customers_cust_postalCode\", customers.cust_contact AS customers_cust_contact, orders.id AS orders_id, orders.cust_id AS orders_cust_id, orders.item_id AS orders_item_id, orders.item_qty AS orders_item_qty, orders.shop_id AS orders_shop_id, items.id AS items_id, items.item_name AS items_item_name, items.item_price AS items_item_price, shops.id AS shops_id, shops.shop_name AS shops_shop_name, shops.shop_cuisine AS shops_shop_cuisine, shops.\"shop_addressLine1\" AS \"shops_shop_addressLine1\", shops.\"shop_postalCode\" AS \"shops_shop_postalCode\", shops.shop_contact AS shops_shop_contact \n",
      "FROM customers, orders, items, shops \n",
      "WHERE customers.id = orders.cust_id AND orders.item_id = items.id AND shops.id = orders.shop_id\n",
      "2022-03-30 19:16:30,706 INFO sqlalchemy.engine.Engine [generated in 0.00104s] ()\n",
      "customerID:1 CustomerName: Sai OrderID: 1  ItemName: Latte ItemQty:2 ItemPrice:2.500 ShopName:PretManger\n",
      "customerID:1 CustomerName: Sai OrderID: 1  ItemName: Capuchino ItemQty:1 ItemPrice:2.500 ShopName:PretManger\n",
      "customerID:1 CustomerName: Sai OrderID: 1  ItemName: PepsiMaxCan ItemQty:1 ItemPrice:1.000 ShopName:PretManger\n",
      "customerID:2 CustomerName: Tejas OrderID: 2  ItemName: CokeCan ItemQty:2 ItemPrice:1.000 ShopName:PretManger\n",
      "customerID:2 CustomerName: Tejas OrderID: 2  ItemName: CokeCan ItemQty:2 ItemPrice:1.000 ShopName:Subway\n",
      "customerID:2 CustomerName: Tejas OrderID: 2  ItemName: Veg Sandwich ItemQty:2 ItemPrice:4.000 ShopName:Subway\n",
      "customerID:2 CustomerName: Tejas OrderID: 3  ItemName: MaC Vegie ItemQty:2 ItemPrice:6.000 ShopName:MacD\n",
      "customerID:2 CustomerName: Tejas OrderID: 3  ItemName: MaC Aloo Tikki ItemQty:2 ItemPrice:6.000 ShopName:MacD\n",
      "customerID:2 CustomerName: Tejas OrderID: 3  ItemName: MaC Chicken ItemQty:2 ItemPrice:6.000 ShopName:MacD\n",
      "customerID:3 CustomerName: Ayush OrderID: 4  ItemName: CokeCan ItemQty:1 ItemPrice:1.000 ShopName:PizzaHut\n",
      "customerID:3 CustomerName: Ayush OrderID: 4  ItemName: Veg Paradise Pizza ItemQty:2 ItemPrice:9.000 ShopName:PizzaHut\n",
      "customerID:3 CustomerName: Ayush OrderID: 5  ItemName: Cheese Pizza ItemQty:1 ItemPrice:9.000 ShopName:PizzaHut\n",
      "customerID:3 CustomerName: Ayush OrderID: 6  ItemName: Veg Fried Rice ItemQty:2 ItemPrice:8.000 ShopName:Phoo\n",
      "customerID:3 CustomerName: Ayush OrderID: 6  ItemName: Chicken Fried Rice ItemQty:2 ItemPrice:9.000 ShopName:Phoo\n",
      "customerID:3 CustomerName: Ayush OrderID: 6  ItemName: Burnt Garlic Rice ItemQty:3 ItemPrice:9.000 ShopName:Phoo\n",
      "customerID:4 CustomerName: Ravi OrderID: 7  ItemName: Latte ItemQty:2 ItemPrice:2.500 ShopName:PretManger\n",
      "customerID:4 CustomerName: Ravi OrderID: 7  ItemName: Veg Sandwich ItemQty:2 ItemPrice:4.000 ShopName:Subway\n",
      "customerID:4 CustomerName: Ravi OrderID: 7  ItemName: MaC Vegie ItemQty:2 ItemPrice:6.000 ShopName:MacD\n",
      "customerID:4 CustomerName: Ravi OrderID: 7  ItemName: Veg Paradise Pizza ItemQty:2 ItemPrice:9.000 ShopName:PizzaHut\n",
      "customerID:4 CustomerName: Ravi OrderID: 7  ItemName: Paani Puri ItemQty:2 ItemPrice:6.000 ShopName:Karma\n",
      "customerID:4 CustomerName: Ravi OrderID: 7  ItemName: Daal Chawal ItemQty:2 ItemPrice:10.000 ShopName:NamasteExeter\n",
      "customerID:4 CustomerName: Ravi OrderID: 7  ItemName: Veg Fried Rice ItemQty:2 ItemPrice:8.000 ShopName:Phoo\n",
      "customerID:5 CustomerName: Apurva OrderID: 8  ItemName: PepsiMaxCan ItemQty:2 ItemPrice:1.000 ShopName:PretManger\n",
      "customerID:5 CustomerName: Apurva OrderID: 8  ItemName: DietCokeCan ItemQty:2 ItemPrice:1.000 ShopName:PretManger\n",
      "customerID:5 CustomerName: Apurva OrderID: 8  ItemName: Veg Hakka Noodles ItemQty:2 ItemPrice:8.000 ShopName:Phoo\n",
      "customerID:5 CustomerName: Apurva OrderID: 9  ItemName: Daal Chawal ItemQty:2 ItemPrice:10.000 ShopName:NamasteExeter\n",
      "customerID:5 CustomerName: Apurva OrderID: 9  ItemName: Chole Bhature ItemQty:2 ItemPrice:12.000 ShopName:NamasteExeter\n",
      "customerID:5 CustomerName: Apurva OrderID: 9  ItemName: North Indian Thaali ItemQty:2 ItemPrice:15.000 ShopName:NamasteExeter\n",
      "customerID:6 CustomerName: Amish OrderID: 10  ItemName: Veg Hakka Noodles ItemQty:2 ItemPrice:8.000 ShopName:Phoo\n",
      "customerID:6 CustomerName: Amish OrderID: 11  ItemName: Veg Hakka Noodles ItemQty:2 ItemPrice:8.000 ShopName:Phoo\n",
      "customerID:6 CustomerName: Amish OrderID: 12  ItemName: Veg Hakka Noodles ItemQty:2 ItemPrice:8.000 ShopName:Phoo\n",
      "customerID:6 CustomerName: Amish OrderID: 13  ItemName: Veg Hakka Noodles ItemQty:2 ItemPrice:8.000 ShopName:Phoo\n",
      "customerID:6 CustomerName: Amish OrderID: 14  ItemName: Veg Hakka Noodles ItemQty:2 ItemPrice:8.000 ShopName:Phoo\n",
      "customerID:6 CustomerName: Amish OrderID: 15  ItemName: Veg Hakka Noodles ItemQty:2 ItemPrice:8.000 ShopName:Phoo\n",
      "customerID:7 CustomerName: Shriya OrderID: 16  ItemName: PepsiMaxCan ItemQty:2 ItemPrice:1.000 ShopName:PretManger\n",
      "customerID:7 CustomerName: Shriya OrderID: 16  ItemName: DietCokeCan ItemQty:2 ItemPrice:1.000 ShopName:PretManger\n",
      "customerID:7 CustomerName: Shriya OrderID: 16  ItemName: Veg Hakka Noodles ItemQty:2 ItemPrice:8.000 ShopName:Phoo\n",
      "customerID:7 CustomerName: Shriya OrderID: 17  ItemName: Daal Chawal ItemQty:2 ItemPrice:10.000 ShopName:NamasteExeter\n",
      "customerID:7 CustomerName: Shriya OrderID: 17  ItemName: Chole Bhature ItemQty:2 ItemPrice:12.000 ShopName:NamasteExeter\n",
      "customerID:7 CustomerName: Shriya OrderID: 17  ItemName: North Indian Thaali ItemQty:2 ItemPrice:15.000 ShopName:NamasteExeter\n",
      "customerID:8 CustomerName: Gulam OrderID: 18  ItemName: PepsiMaxCan ItemQty:2 ItemPrice:1.000 ShopName:PretManger\n",
      "customerID:8 CustomerName: Gulam OrderID: 18  ItemName: DietCokeCan ItemQty:2 ItemPrice:1.000 ShopName:PretManger\n",
      "customerID:8 CustomerName: Gulam OrderID: 18  ItemName: Veg Hakka Noodles ItemQty:2 ItemPrice:8.000 ShopName:Phoo\n",
      "customerID:8 CustomerName: Gulam OrderID: 18  ItemName: Daal Chawal ItemQty:2 ItemPrice:10.000 ShopName:NamasteExeter\n",
      "customerID:8 CustomerName: Gulam OrderID: 18  ItemName: Chole Bhature ItemQty:2 ItemPrice:12.000 ShopName:NamasteExeter\n",
      "customerID:8 CustomerName: Gulam OrderID: 18  ItemName: North Indian Thaali ItemQty:2 ItemPrice:15.000 ShopName:NamasteExeter\n",
      "customerID:9 CustomerName: Divyansh OrderID: 19  ItemName: PepsiMaxCan ItemQty:2 ItemPrice:1.000 ShopName:PretManger\n",
      "customerID:9 CustomerName: Divyansh OrderID: 19  ItemName: DietCokeCan ItemQty:2 ItemPrice:1.000 ShopName:PretManger\n",
      "customerID:9 CustomerName: Divyansh OrderID: 19  ItemName: Veg Hakka Noodles ItemQty:2 ItemPrice:8.000 ShopName:Phoo\n",
      "customerID:9 CustomerName: Divyansh OrderID: 20  ItemName: Daal Chawal ItemQty:2 ItemPrice:10.000 ShopName:NamasteExeter\n",
      "customerID:9 CustomerName: Divyansh OrderID: 20  ItemName: Chole Bhature ItemQty:2 ItemPrice:12.000 ShopName:NamasteExeter\n",
      "customerID:9 CustomerName: Divyansh OrderID: 20  ItemName: North Indian Thaali ItemQty:2 ItemPrice:15.000 ShopName:NamasteExeter\n",
      "customerID:10 CustomerName: Dinda OrderID: 21  ItemName: Veg Fried Rice ItemQty:4 ItemPrice:8.000 ShopName:Phoo\n"
     ]
    }
   ],
   "source": [
    "#Displaying all customers and their respective Orders where one customer can have multiple orders\n",
    "\n",
    "for c,o,i,s in objSession3.query(Customer,Order,Item,Shop).filter(Customer.id == Order.cust_id,Order.item_id==Item.id,Shop.id==Order.shop_id).all():\n",
    "    print (\"customerID:{} CustomerName: {} OrderID: {}  ItemName: {} ItemQty:{} ItemPrice:{} ShopName:{}\".format(c.id,c.cust_name,o.id,i.item_name,o.item_qty,i.item_price,s.shop_name))\n"
   ]
  },
  {
   "cell_type": "code",
   "execution_count": 77,
   "id": "d4c0d53a",
   "metadata": {},
   "outputs": [],
   "source": [
    "#Function to retrieve order details for user provided customer id\n",
    "\n",
    "def seeOrderDetailsForCustomer(inOrdCustID,objSession):\n",
    "    filteredOrders=objSession.query(Customer,Order,Item,Shop).filter(Customer.id == Order.cust_id,Order.item_id==Item.id,Shop.id==Order.shop_id,Customer.id==inOrdCustID).all()\n",
    "    if(len(filteredOrders)==0):\n",
    "        print(\"\\n Customer Doesnot exist\")\n",
    "    else:\n",
    "        print(\"\\n \\n\")\n",
    "        for c,o,i,s in filteredOrders:\n",
    "            print (\"OrderID: {} CustomerName: {} ItemName: {} ItemQty:{} ItemPrice:{} ShopName:{}\".format(o.id,c.cust_name, i.item_name,o.item_qty,i.item_price,s.shop_name))\n",
    "        print(\"\\n \\n\")"
   ]
  },
  {
   "cell_type": "code",
   "execution_count": 79,
   "id": "2114f3cc",
   "metadata": {},
   "outputs": [
    {
     "name": "stdout",
     "output_type": "stream",
     "text": [
      "Enter Customer Id to see orders:60\n",
      "2022-03-30 19:16:59,808 INFO sqlalchemy.engine.Engine SELECT customers.id AS customers_id, customers.cust_name AS customers_cust_name, customers.cust_email AS customers_cust_email, customers.\"cust_addressLine1\" AS \"customers_cust_addressLine1\", customers.\"cust_postalCode\" AS \"customers_cust_postalCode\", customers.cust_contact AS customers_cust_contact, orders.id AS orders_id, orders.cust_id AS orders_cust_id, orders.item_id AS orders_item_id, orders.item_qty AS orders_item_qty, orders.shop_id AS orders_shop_id, items.id AS items_id, items.item_name AS items_item_name, items.item_price AS items_item_price, shops.id AS shops_id, shops.shop_name AS shops_shop_name, shops.shop_cuisine AS shops_shop_cuisine, shops.\"shop_addressLine1\" AS \"shops_shop_addressLine1\", shops.\"shop_postalCode\" AS \"shops_shop_postalCode\", shops.shop_contact AS shops_shop_contact \n",
      "FROM customers, orders, items, shops \n",
      "WHERE customers.id = orders.cust_id AND orders.item_id = items.id AND shops.id = orders.shop_id AND customers.id = ?\n",
      "2022-03-30 19:16:59,809 INFO sqlalchemy.engine.Engine [cached since 7.425s ago] (60,)\n",
      "\n",
      " Customer Doesnot exist\n"
     ]
    }
   ],
   "source": [
    "#retrieve order details for a specific customer\n",
    "try :\n",
    "    inputOrdCustID = int(input(\"Enter Customer Id to see orders:\"))\n",
    "    seeOrderDetailsForCustomer(inputOrdCustID,objSession3)\n",
    "except ValueError:\n",
    "    print(\"\\nEnter a valid Integer value\")"
   ]
  },
  {
   "cell_type": "markdown",
   "id": "49bd2135",
   "metadata": {},
   "source": [
    "#### User Inputs for customer registration details"
   ]
  },
  {
   "cell_type": "code",
   "execution_count": 80,
   "id": "d2a71957",
   "metadata": {},
   "outputs": [
    {
     "name": "stdout",
     "output_type": "stream",
     "text": [
      "Enter customer Name:Dasds\n",
      "Enter a valid customer Email Address:sgdvfds@jhwvefwe.sdhf\n",
      "Enter Address Line:jevshf\n",
      "Enter postal code of length 6 charactersFD45GD\n",
      "Enter contact number 10 digit:256545415\n",
      "2022-03-30 19:17:21,786 INFO sqlalchemy.engine.Engine INSERT INTO customers (cust_name, cust_email, \"cust_addressLine1\", \"cust_postalCode\", cust_contact) VALUES (?, ?, ?, ?, ?)\n",
      "2022-03-30 19:17:21,786 INFO sqlalchemy.engine.Engine [generated in 0.00053s] ('Dasds', 'sgdvfds@jhwvefwe.sdhf', 'jevshf', 'FD45GD', '256545415')\n",
      "2022-03-30 19:17:21,790 INFO sqlalchemy.engine.Engine COMMIT\n",
      "\n",
      " Registered user details are :\n",
      "2022-03-30 19:17:22,219 INFO sqlalchemy.engine.Engine BEGIN (implicit)\n",
      "2022-03-30 19:17:22,220 INFO sqlalchemy.engine.Engine SELECT customers.id AS customers_id, customers.cust_name AS customers_cust_name, customers.cust_email AS customers_cust_email, customers.\"cust_addressLine1\" AS \"customers_cust_addressLine1\", customers.\"cust_postalCode\" AS \"customers_cust_postalCode\", customers.cust_contact AS customers_cust_contact \n",
      "FROM customers \n",
      "WHERE customers.cust_email = ?\n",
      "2022-03-30 19:17:22,221 INFO sqlalchemy.engine.Engine [generated in 0.00046s] ('sgdvfds@jhwvefwe.sdhf',)\n",
      "Customer ID: 11 \n",
      "Customer Name: Dasds \n",
      "Customer Email: sgdvfds@jhwvefwe.sdhf \n",
      "Customer Addressline1: jevshf \n",
      "Customer Postal Code: FD45GD \\Customer Contact number: 256545415\n"
     ]
    }
   ],
   "source": [
    "custName = input(\"Enter customer Name:\")\n",
    "custEmail=input(\"Enter a valid customer Email Address:\")\n",
    "custAddressLine1=input(\"Enter Address Line:\")\n",
    "custPostalCode=input(\"Enter postal code of length 6 characters\")\n",
    "custContact=input(\"Enter contact number 10 digit:\")\n",
    "\n",
    "try:\n",
    "    objSession3.add(Customer(cust_name=custName,cust_email=custEmail,cust_addressLine1=custAddressLine1,cust_postalCode=custPostalCode,cust_contact=custContact))\n",
    "    objSession3.commit()\n",
    "    \n",
    "    print(\"\\n Registered user details are :\")\n",
    "    registeredUser = objSession3.query(Customer).filter(Customer.cust_email==custEmail).all()\n",
    "    for cust in registeredUser:\n",
    "        print(\"Customer ID:\",cust.id,\"\\nCustomer Name:\",cust.cust_name,\"\\nCustomer Email:\",cust.cust_email,\"\\nCustomer Addressline1:\",cust.cust_addressLine1,\"\\nCustomer Postal Code:\",cust.cust_postalCode,\"\\Customer Contact number:\",cust.cust_contact)\n",
    "\n",
    "except  :\n",
    "    objSession3.rollback()\n",
    "    print(\"\\n Error while registering customer details\")\n"
   ]
  },
  {
   "cell_type": "code",
   "execution_count": null,
   "id": "928d6831",
   "metadata": {},
   "outputs": [],
   "source": []
  },
  {
   "cell_type": "markdown",
   "id": "df4bb835",
   "metadata": {},
   "source": [
    "#### User inputs for food Order"
   ]
  },
  {
   "cell_type": "code",
   "execution_count": 81,
   "id": "9227e141",
   "metadata": {},
   "outputs": [],
   "source": [
    "#Function to cehck if the combinaiton of shopID and itemID is valid or not\n",
    "def linkCheck(inputShopID,inputItemID,cur):\n",
    "    qry=\"select shop_id,item_id from link where shop_id=? and item_id=?\"\n",
    "    cur.execute(qry,(inputShopID,inputItemID))\n",
    "    try:\n",
    "        linkCHeck=cur.fetchone()[0]\n",
    "        return(1)\n",
    "\n",
    "    except:\n",
    "        return(0)"
   ]
  },
  {
   "cell_type": "code",
   "execution_count": null,
   "id": "c5095af3",
   "metadata": {},
   "outputs": [],
   "source": []
  },
  {
   "cell_type": "code",
   "execution_count": 82,
   "id": "2d16b30d",
   "metadata": {},
   "outputs": [],
   "source": [
    "#Check if the customerId is registered in the data base or not \n",
    "def customerCheck(inputCustId,cur):  \n",
    "    qry=\"select id from customers where id=?\"\n",
    "    cur.execute(qry,(inputCustId,))\n",
    "    try:\n",
    "        custCheck=cur.fetchone()[0]\n",
    "        return(1)\n",
    "\n",
    "    except:\n",
    "        return(0)\n",
    "\n"
   ]
  },
  {
   "cell_type": "code",
   "execution_count": 83,
   "id": "6e6fc6a8",
   "metadata": {},
   "outputs": [],
   "source": [
    "# to get new order ID as it is unique in the table and also the primary key \n",
    "\n",
    "def getNewOrderId(cur):\n",
    "    qry=\"select max(id) from orders\"\n",
    "    cur.execute(qry)\n",
    "    newOrderID=cur.fetchone()[0]+1\n",
    "\n",
    "    return newOrderID\n"
   ]
  },
  {
   "cell_type": "code",
   "execution_count": 85,
   "id": "2a60e36f",
   "metadata": {},
   "outputs": [
    {
     "name": "stdout",
     "output_type": "stream",
     "text": [
      "Enter customer id to order food:11\n",
      "Enter shopID to order from (1 to 7):7\n",
      "Enter ItemID to order (1 to 40) :40\n",
      "Enter Item quantity40\n",
      "2022-03-30 19:17:54,351 INFO sqlalchemy.engine.Engine INSERT INTO orders (id, cust_id, item_id, item_qty, shop_id) VALUES (?, ?, ?, ?, ?)\n",
      "2022-03-30 19:17:54,352 INFO sqlalchemy.engine.Engine [generated in 0.00070s] (22, 11, 40, 40, 7)\n",
      "2022-03-30 19:17:54,354 INFO sqlalchemy.engine.Engine COMMIT\n",
      "\n",
      " orders by customer ID 11 are as below\n",
      "2022-03-30 19:17:54,413 INFO sqlalchemy.engine.Engine BEGIN (implicit)\n",
      "2022-03-30 19:17:54,414 INFO sqlalchemy.engine.Engine SELECT orders.id AS orders_id, orders.cust_id AS orders_cust_id, orders.item_id AS orders_item_id, orders.item_qty AS orders_item_qty, orders.shop_id AS orders_shop_id \n",
      "FROM orders \n",
      "WHERE orders.cust_id = ?\n",
      "2022-03-30 19:17:54,415 INFO sqlalchemy.engine.Engine [generated in 0.00099s] (11,)\n",
      "OrderID: 22  ItemID: 40 ItemQty:40 ShopId:7\n"
     ]
    }
   ],
   "source": [
    "inputCustId=int(input(\"Enter customer id to order food:\"))\n",
    "inputCustIdStatus=customerCheck(inputCustId,cur)\n",
    "if(inputCustIdStatus==1):\n",
    "        inputShopID=int(input(\"Enter shopID to order from (1 to 7):\"))\n",
    "        inputItemID=int(input(\"Enter ItemID to order (1 to 40) :\"))\n",
    "        linkCheckStatus=linkCheck(inputShopID,inputItemID,cur)\n",
    "        newOrderID = getNewOrderId(cur)\n",
    "        if(linkCheckStatus==1):\n",
    "            inputItemQty=int(input(\"Enter Item quantity\"))\n",
    "            objSession3.add(Order(id=newOrderID,cust_id=inputCustId,item_id=inputItemID,item_qty=inputItemQty,shop_id=inputShopID))\n",
    "            objSession3.commit()\n",
    "\n",
    "            print(\"\\n orders by customer ID {} are as below\".format(inputCustId))\n",
    "            ordersByCust = objSession3.query(Order).filter(Order.cust_id==inputCustId).all()\n",
    "            for orderByCust in ordersByCust:\n",
    "                print (\"OrderID: {}  ItemID: {} ItemQty:{} ShopId:{}\".format(orderByCust.id,orderByCust.item_id,orderByCust.item_qty,orderByCust.shop_id))\n",
    "        else:\n",
    "            print(\"ShopID - ItemID Combinaiton not present. Please see the menue option again and revisit us.\")\n",
    "else:\n",
    "    print(\"Customer ID not present. Try again with correct custmer ID\")"
   ]
  },
  {
   "cell_type": "code",
   "execution_count": null,
   "id": "a235d219",
   "metadata": {},
   "outputs": [],
   "source": []
  },
  {
   "cell_type": "code",
   "execution_count": 86,
   "id": "ce698227",
   "metadata": {},
   "outputs": [
    {
     "name": "stdout",
     "output_type": "stream",
     "text": [
      "2022-03-30 19:18:02,080 INFO sqlalchemy.engine.Engine ROLLBACK\n"
     ]
    },
    {
     "name": "stderr",
     "output_type": "stream",
     "text": [
      "C:\\Users\\tejas\\AppData\\Local\\Temp/ipykernel_16736/853103812.py:1: SADeprecationWarning: The Session.close_all() method is deprecated and will be removed in a future release.  Please refer to session.close_all_sessions(). (deprecated since: 1.3)\n",
      "  objSession3.close_all()\n"
     ]
    }
   ],
   "source": [
    "objSession3.close_all()\n",
    "conn3.close()"
   ]
  },
  {
   "cell_type": "code",
   "execution_count": null,
   "id": "2b854500",
   "metadata": {},
   "outputs": [],
   "source": []
  },
  {
   "cell_type": "markdown",
   "id": "e309d6fc",
   "metadata": {},
   "source": [
    "### Generate invoice for a order with/without discount coupon"
   ]
  },
  {
   "cell_type": "code",
   "execution_count": 87,
   "id": "4fbc3830",
   "metadata": {},
   "outputs": [],
   "source": [
    "conn4=sqlite3.connect(pathForSQLConn)\n",
    "cur=conn4.cursor()\n",
    "objSession4 = Session()\n"
   ]
  },
  {
   "cell_type": "code",
   "execution_count": 88,
   "id": "22353e4e",
   "metadata": {},
   "outputs": [],
   "source": [
    "#Function to validate coupon and check expiry\n",
    "def couponCheck(inputCoupon,cur):  \n",
    "    qry=\"select coupon_status from coupons where coupon_code=?\"\n",
    "    cur.execute(qry,(inputCoupon,))\n",
    "    try:\n",
    "        coupon_check=cur.fetchone()[0]\n",
    "        return(coupon_check)\n",
    "\n",
    "    except:\n",
    "        return(\"INVALID\")"
   ]
  },
  {
   "cell_type": "code",
   "execution_count": 89,
   "id": "5bd3aecd",
   "metadata": {},
   "outputs": [],
   "source": [
    "#creating function for inserting invoice details into invoice table based on order inputs\n",
    "\n",
    "def generateInvoiceWithCoupon(orderID,CouponCode,cur,objSession):\n",
    "    #Connecting to the database\n",
    "    \n",
    "    #Query to find total sum of item prices for a order\n",
    "    qry1 = '''select sum(items.item_price*orders.item_qty) from items \n",
    "        join orders on (orders.item_id=items.id)\n",
    "        where orders.id=?'''\n",
    "    cur.execute(qry1,(orderID,))\n",
    "    totalAmount=cur.fetchone()[0]\n",
    "    \n",
    "    #Query to discount offered for a coupon_code\n",
    "    qry2 = '''select coupon_discount from coupons\n",
    "    where coupon_code=?\n",
    "    '''\n",
    "    cur.execute(qry2,(CouponCode,))\n",
    "    discountOffered=cur.fetchone()[0]    \n",
    "    #Calculating final invoice amount\n",
    "    invoiceAmount = decimal.Decimal(totalAmount) - decimal.Decimal(totalAmount*(discountOffered/100))\n",
    "\n",
    "    \n",
    "    #inserting data into invoce table based on the data obtained above\n",
    "    #objSession = Session()\n",
    "    objSession.add_all([\n",
    "    Invoice(order_id=orderID,total_amt=totalAmount,discouted_price=invoiceAmount,coupon_code=CouponCode,invoice_date=datetime.date.today())])\n",
    "    conn4.commit() \n",
    "    objSession.commit()\n",
    "    return 1"
   ]
  },
  {
   "cell_type": "code",
   "execution_count": 90,
   "id": "333eb2dd",
   "metadata": {},
   "outputs": [],
   "source": [
    "#creating function for inserting invoice details into invoice table based on order inputs\n",
    "\n",
    "def generateInvoiceWithoutCoupon(orderID,cur,objSession):\n",
    "    #Connecting to the database\n",
    "    \n",
    "    #Query to find total sum of item prices for a order\n",
    "    qry1 = '''select sum(items.item_price*orders.item_qty) from items \n",
    "        join orders on (orders.item_id=items.id)\n",
    "        where orders.id=?'''\n",
    "    cur.execute(qry1,(orderID,))\n",
    "    totalAmount=cur.fetchone()[0]\n",
    "    \n",
    "    invoiceAmount = totalAmount\n",
    "    \n",
    "    #inserting data into invoce table based on the data obtained above\n",
    "    objSession.add_all([\n",
    "    Invoice(order_id=orderID,total_amt=totalAmount,discouted_price=invoiceAmount,coupon_code=\"NA\",invoice_date=datetime.date.today())])\n",
    "   \n",
    "    conn4.commit()    \n",
    "    objSession.commit()\n",
    "    return 1"
   ]
  },
  {
   "cell_type": "code",
   "execution_count": 91,
   "id": "fd299293",
   "metadata": {},
   "outputs": [],
   "source": [
    "#OrderID check funciton to check the existance of orderID\n",
    "def orderIdCheck(orderIdForInvoice,cur):  \n",
    "    qry=\"select DISTINCT id from orders where id=?\"\n",
    "    cur.execute(qry,(orderIdForInvoice,))\n",
    "    try:\n",
    "        coupon_check=cur.fetchone()[0]\n",
    "        return(1)\n",
    "\n",
    "    except:\n",
    "        return(0)"
   ]
  },
  {
   "cell_type": "code",
   "execution_count": 92,
   "id": "8651ab5d",
   "metadata": {},
   "outputs": [],
   "source": [
    "#Function to check orderID present in invoice table or not\n",
    "\n",
    "def orderIdInInvoice(orderIdForInvoice,cur):  \n",
    "    qry=\"select order_id from invoice where order_id=?\"\n",
    "    cur.execute(qry,(orderIdForInvoice,))\n",
    "    try:\n",
    "        coupon_check=cur.fetchone()[0]\n",
    "        return(1)\n",
    "\n",
    "    except:\n",
    "        return(0)"
   ]
  },
  {
   "cell_type": "code",
   "execution_count": 93,
   "id": "3fc48fbe",
   "metadata": {},
   "outputs": [
    {
     "name": "stdout",
     "output_type": "stream",
     "text": [
      "Provide orderID to generate invoice for:2\n",
      "\n",
      "Order ID found. invoice can be generated....\n",
      "DO you have a coupon to use (Y/N):Y\n",
      "Enter Coupon code:ONLINEFOOD006\n",
      "\n",
      "Coupon is ACTIVE. Discount is getting applied.\n",
      "2022-03-30 19:19:13,667 INFO sqlalchemy.engine.Engine BEGIN (implicit)\n",
      "2022-03-30 19:19:13,670 INFO sqlalchemy.engine.Engine INSERT INTO invoice (order_id, total_amt, discouted_price, coupon_code, invoice_date) VALUES (?, ?, ?, ?, ?)\n",
      "2022-03-30 19:19:13,670 INFO sqlalchemy.engine.Engine [generated in 0.00045s] (2, 12.0, 9.0, 'ONLINEFOOD006', '2022-03-30')\n",
      "2022-03-30 19:19:13,673 INFO sqlalchemy.engine.Engine COMMIT\n",
      "2022-03-30 19:19:14,074 INFO sqlalchemy.engine.Engine BEGIN (implicit)\n",
      "2022-03-30 19:19:14,075 INFO sqlalchemy.engine.Engine UPDATE coupons SET coupon_status=? WHERE coupons.coupon_code = ?\n",
      "2022-03-30 19:19:14,076 INFO sqlalchemy.engine.Engine [generated in 0.00066s] ('USED', 'ONLINEFOOD006')\n",
      "2022-03-30 19:19:14,078 INFO sqlalchemy.engine.Engine COMMIT\n",
      "\n",
      " Invoice generation successfull.\n",
      "\n",
      " ############################## Generated invoice details ############################## \n",
      "\n",
      "2022-03-30 19:19:14,109 INFO sqlalchemy.engine.Engine BEGIN (implicit)\n",
      "2022-03-30 19:19:14,110 INFO sqlalchemy.engine.Engine SELECT invoice.invoice_id AS invoice_invoice_id, invoice.order_id AS invoice_order_id, invoice.total_amt AS invoice_total_amt, invoice.discouted_price AS invoice_discouted_price, invoice.coupon_code AS invoice_coupon_code, invoice.invoice_date AS invoice_invoice_date \n",
      "FROM invoice \n",
      "WHERE invoice.order_id = ?\n",
      "2022-03-30 19:19:14,111 INFO sqlalchemy.engine.Engine [generated in 0.00062s] (2,)\n",
      "InvoiceID: 1 \n",
      "OrderID: 2 \n",
      "totalAmount: 12.000 \n",
      "Coupon Applied: ONLINEFOOD006 \n",
      "DiscountedPrice: 9.000 \n",
      "InvoiceDate: 2022-03-30\n"
     ]
    },
    {
     "name": "stderr",
     "output_type": "stream",
     "text": [
      "C:\\Users\\tejas\\AppData\\Local\\Temp/ipykernel_16736/3954655447.py:20: SAWarning: Dialect sqlite+pysqlite does *not* support Decimal objects natively, and SQLAlchemy must convert from floating point - rounding errors and other issues may occur. Please consider storing Decimal numbers as strings or integers on this platform for lossless storage.\n",
      "  generatedInvoiceForID = objSession4.query(Invoice).filter(Invoice.order_id==inputOrderIdForInvoice).all()\n"
     ]
    }
   ],
   "source": [
    "inputOrderIdForInvoice = int(input(\"Provide orderID to generate invoice for:\"))\n",
    "orderIdCheckStatus=orderIdCheck(inputOrderIdForInvoice,cur)\n",
    "invoiceCheckForOrderID = orderIdInInvoice(inputOrderIdForInvoice,cur)\n",
    "if (invoiceCheckForOrderID==0):\n",
    "    if(orderIdCheckStatus==1):\n",
    "            print(\"\\nOrder ID found. invoice can be generated....\")\n",
    "\n",
    "            inputCouponChoice=input ('DO you have a coupon to use (Y/N):')\n",
    "            if (inputCouponChoice=='Y'):\n",
    "                inputCoupon=input ('Enter Coupon code:')\n",
    "                couponCheckStatus=couponCheck(inputCoupon,cur)\n",
    "                if(couponCheckStatus=='ACTIVE' and couponCheckStatus!='USED'):\n",
    "                    print(\"\\nCoupon is ACTIVE. Discount is getting applied.\")\n",
    "                    generateInvoiceWithCoupon(inputOrderIdForInvoice,inputCoupon,cur,objSession4)\n",
    "                    #Update Coupon status to used from active\n",
    "                    objSession4.query(Coupon).filter(Coupon.coupon_code==inputCoupon).update({Coupon.coupon_status:'USED'}, synchronize_session = False)\n",
    "                    objSession4.commit()\n",
    "                    print(\"\\n Invoice generation successfull.\")\n",
    "                    print(\"\\n ############################## Generated invoice details ############################## \\n\")\n",
    "                    generatedInvoiceForID = objSession4.query(Invoice).filter(Invoice.order_id==inputOrderIdForInvoice).all()\n",
    "                    for inv in generatedInvoiceForID:\n",
    "                        print(\"InvoiceID:\",inv.invoice_id,\"\\nOrderID:\",inv.order_id,\"\\ntotalAmount:\",inv.total_amt,\"\\nCoupon Applied:\",inv.coupon_code,\"\\nDiscountedPrice:\",inv.discouted_price, \"\\nInvoiceDate:\",inv.invoice_date)\n",
    "                elif (couponCheckStatus=='USED'):\n",
    "                    print(\"\\nCoupon is already used. Invoice can not be generated.\")\n",
    "                elif (couponCheckStatus=='EXPIRED'):\n",
    "                    print(\"\\nCoupon is EXPIRED. Invoice can not be generayted. Try again with ACTIVE coupon code.\")\n",
    "                else :\n",
    "                    print(\"\\nCoupon is invalid. Try generating invoice without coupon.\")\n",
    "            else :\n",
    "                print(\"\\nNo discount can be applied.\\n\")\n",
    "                generateInvoiceWithoutCoupon(inputOrderIdForInvoice,cur,objSession4)\n",
    "                print(\"\\n Invoice generation successfull.\")\n",
    "                print(\"\\n ############################## Generated invoice details ############################## \\n\")\n",
    "                for inv in generatedInvoiceForID:\n",
    "                    print(\"InvoiceID:\",inv.invoice_id,\"\\nOrderID:\",inv.order_id,\"\\ntotalAmount:\",inv.total_amt,\"\\nCoupon Applied:\",inv.coupon_code,\"\\nDiscountedPrice:\",inv.discouted_price, \"\\nInvoiceDate:\",inv.invoice_date)\n",
    "\n",
    "    else :\n",
    "            print(\"OrderID not present. please try again with valid orderID to generate onvoice.\")\n",
    "else:\n",
    "    print(\"Invoice Already generated for the orderID. Can not generated the onvoice again.\")\n",
    "\n",
    "#ONLINEFOOD001\n"
   ]
  },
  {
   "cell_type": "code",
   "execution_count": 94,
   "id": "42a3f144",
   "metadata": {},
   "outputs": [
    {
     "name": "stdout",
     "output_type": "stream",
     "text": [
      "2022-03-30 19:19:20,369 INFO sqlalchemy.engine.Engine SELECT invoice.invoice_id AS invoice_invoice_id, invoice.order_id AS invoice_order_id, invoice.total_amt AS invoice_total_amt, invoice.discouted_price AS invoice_discouted_price, invoice.coupon_code AS invoice_coupon_code, invoice.invoice_date AS invoice_invoice_date \n",
      "FROM invoice ORDER BY invoice.order_id\n",
      "2022-03-30 19:19:20,370 INFO sqlalchemy.engine.Engine [generated in 0.00080s] ()\n",
      "OrderID: 2 InvoiceID: 1 totalAmount: 12.000 Coupon Applied: ONLINEFOOD006 DiscountedPrice: 9.000 InvoiceDate: 2022-03-30\n"
     ]
    }
   ],
   "source": [
    "# Displaying all invoices generated\n",
    "generatedInvoices = objSession4.query(Invoice).order_by(Invoice.order_id).all()\n",
    "for inv in generatedInvoices:\n",
    "        print(\"OrderID:\",inv.order_id,\"InvoiceID:\",inv.invoice_id,\"totalAmount:\",inv.total_amt,\"Coupon Applied:\",inv.coupon_code,\"DiscountedPrice:\",inv.discouted_price,\"InvoiceDate:\",inv.invoice_date)\n"
   ]
  },
  {
   "cell_type": "code",
   "execution_count": 95,
   "id": "18c85d54",
   "metadata": {},
   "outputs": [
    {
     "name": "stdout",
     "output_type": "stream",
     "text": [
      "2022-03-30 19:19:24,812 INFO sqlalchemy.engine.Engine ROLLBACK\n"
     ]
    },
    {
     "name": "stderr",
     "output_type": "stream",
     "text": [
      "C:\\Users\\tejas\\AppData\\Local\\Temp/ipykernel_16736/1356077224.py:1: SADeprecationWarning: The Session.close_all() method is deprecated and will be removed in a future release.  Please refer to session.close_all_sessions(). (deprecated since: 1.3)\n",
      "  objSession4.close_all()\n"
     ]
    }
   ],
   "source": [
    "objSession4.close_all()\n",
    "conn4.close()"
   ]
  },
  {
   "cell_type": "markdown",
   "id": "cc8bb1c8",
   "metadata": {},
   "source": [
    "### DELETE RELATED RECORD FROM CHILD TABLE (CASCADE DELETE IN SQLite)"
   ]
  },
  {
   "cell_type": "code",
   "execution_count": 96,
   "id": "b32a1cbc",
   "metadata": {},
   "outputs": [],
   "source": [
    "#creating cursor for sqlite conneciton and session for alchemy\n",
    "conn5=sqlite3.connect(pathForSQLConn)\n",
    "cur=conn5.cursor()\n",
    "objSession5 = Session()"
   ]
  },
  {
   "cell_type": "code",
   "execution_count": 97,
   "id": "ea4dbef1",
   "metadata": {},
   "outputs": [
    {
     "name": "stdout",
     "output_type": "stream",
     "text": [
      "2022-03-30 19:19:29,523 INFO sqlalchemy.engine.Engine BEGIN (implicit)\n",
      "2022-03-30 19:19:29,524 INFO sqlalchemy.engine.Engine SELECT customers.id AS customers_id, customers.cust_name AS customers_cust_name, customers.cust_email AS customers_cust_email, customers.\"cust_addressLine1\" AS \"customers_cust_addressLine1\", customers.\"cust_postalCode\" AS \"customers_cust_postalCode\", customers.cust_contact AS customers_cust_contact, orders.id AS orders_id, orders.cust_id AS orders_cust_id, orders.item_id AS orders_item_id, orders.item_qty AS orders_item_qty, orders.shop_id AS orders_shop_id, items.id AS items_id, items.item_name AS items_item_name, items.item_price AS items_item_price, shops.id AS shops_id, shops.shop_name AS shops_shop_name, shops.shop_cuisine AS shops_shop_cuisine, shops.\"shop_addressLine1\" AS \"shops_shop_addressLine1\", shops.\"shop_postalCode\" AS \"shops_shop_postalCode\", shops.shop_contact AS shops_shop_contact \n",
      "FROM customers, orders, items, shops \n",
      "WHERE customers.id = orders.cust_id AND orders.item_id = items.id AND shops.id = orders.shop_id\n",
      "2022-03-30 19:19:29,525 INFO sqlalchemy.engine.Engine [cached since 178.8s ago] ()\n",
      "customerID:1 OrderID: 1 CustomerName: Sai ItemName: Latte ItemQty:2 ItemPrice:2.500 ShopName:PretManger\n",
      "customerID:1 OrderID: 1 CustomerName: Sai ItemName: Capuchino ItemQty:1 ItemPrice:2.500 ShopName:PretManger\n",
      "customerID:1 OrderID: 1 CustomerName: Sai ItemName: PepsiMaxCan ItemQty:1 ItemPrice:1.000 ShopName:PretManger\n",
      "customerID:2 OrderID: 2 CustomerName: Tejas ItemName: CokeCan ItemQty:2 ItemPrice:1.000 ShopName:PretManger\n",
      "customerID:2 OrderID: 2 CustomerName: Tejas ItemName: CokeCan ItemQty:2 ItemPrice:1.000 ShopName:Subway\n",
      "customerID:2 OrderID: 2 CustomerName: Tejas ItemName: Veg Sandwich ItemQty:2 ItemPrice:4.000 ShopName:Subway\n",
      "customerID:2 OrderID: 3 CustomerName: Tejas ItemName: MaC Vegie ItemQty:2 ItemPrice:6.000 ShopName:MacD\n",
      "customerID:2 OrderID: 3 CustomerName: Tejas ItemName: MaC Aloo Tikki ItemQty:2 ItemPrice:6.000 ShopName:MacD\n",
      "customerID:2 OrderID: 3 CustomerName: Tejas ItemName: MaC Chicken ItemQty:2 ItemPrice:6.000 ShopName:MacD\n",
      "customerID:3 OrderID: 4 CustomerName: Ayush ItemName: CokeCan ItemQty:1 ItemPrice:1.000 ShopName:PizzaHut\n",
      "customerID:3 OrderID: 4 CustomerName: Ayush ItemName: Veg Paradise Pizza ItemQty:2 ItemPrice:9.000 ShopName:PizzaHut\n",
      "customerID:3 OrderID: 5 CustomerName: Ayush ItemName: Cheese Pizza ItemQty:1 ItemPrice:9.000 ShopName:PizzaHut\n",
      "customerID:3 OrderID: 6 CustomerName: Ayush ItemName: Veg Fried Rice ItemQty:2 ItemPrice:8.000 ShopName:Phoo\n",
      "customerID:3 OrderID: 6 CustomerName: Ayush ItemName: Chicken Fried Rice ItemQty:2 ItemPrice:9.000 ShopName:Phoo\n",
      "customerID:3 OrderID: 6 CustomerName: Ayush ItemName: Burnt Garlic Rice ItemQty:3 ItemPrice:9.000 ShopName:Phoo\n",
      "customerID:4 OrderID: 7 CustomerName: Ravi ItemName: Latte ItemQty:2 ItemPrice:2.500 ShopName:PretManger\n",
      "customerID:4 OrderID: 7 CustomerName: Ravi ItemName: Veg Sandwich ItemQty:2 ItemPrice:4.000 ShopName:Subway\n",
      "customerID:4 OrderID: 7 CustomerName: Ravi ItemName: MaC Vegie ItemQty:2 ItemPrice:6.000 ShopName:MacD\n",
      "customerID:4 OrderID: 7 CustomerName: Ravi ItemName: Veg Paradise Pizza ItemQty:2 ItemPrice:9.000 ShopName:PizzaHut\n",
      "customerID:4 OrderID: 7 CustomerName: Ravi ItemName: Paani Puri ItemQty:2 ItemPrice:6.000 ShopName:Karma\n",
      "customerID:4 OrderID: 7 CustomerName: Ravi ItemName: Daal Chawal ItemQty:2 ItemPrice:10.000 ShopName:NamasteExeter\n",
      "customerID:4 OrderID: 7 CustomerName: Ravi ItemName: Veg Fried Rice ItemQty:2 ItemPrice:8.000 ShopName:Phoo\n",
      "customerID:5 OrderID: 8 CustomerName: Apurva ItemName: PepsiMaxCan ItemQty:2 ItemPrice:1.000 ShopName:PretManger\n",
      "customerID:5 OrderID: 8 CustomerName: Apurva ItemName: DietCokeCan ItemQty:2 ItemPrice:1.000 ShopName:PretManger\n",
      "customerID:5 OrderID: 8 CustomerName: Apurva ItemName: Veg Hakka Noodles ItemQty:2 ItemPrice:8.000 ShopName:Phoo\n",
      "customerID:5 OrderID: 9 CustomerName: Apurva ItemName: Daal Chawal ItemQty:2 ItemPrice:10.000 ShopName:NamasteExeter\n",
      "customerID:5 OrderID: 9 CustomerName: Apurva ItemName: Chole Bhature ItemQty:2 ItemPrice:12.000 ShopName:NamasteExeter\n",
      "customerID:5 OrderID: 9 CustomerName: Apurva ItemName: North Indian Thaali ItemQty:2 ItemPrice:15.000 ShopName:NamasteExeter\n",
      "customerID:6 OrderID: 10 CustomerName: Amish ItemName: Veg Hakka Noodles ItemQty:2 ItemPrice:8.000 ShopName:Phoo\n",
      "customerID:6 OrderID: 11 CustomerName: Amish ItemName: Veg Hakka Noodles ItemQty:2 ItemPrice:8.000 ShopName:Phoo\n",
      "customerID:6 OrderID: 12 CustomerName: Amish ItemName: Veg Hakka Noodles ItemQty:2 ItemPrice:8.000 ShopName:Phoo\n",
      "customerID:6 OrderID: 13 CustomerName: Amish ItemName: Veg Hakka Noodles ItemQty:2 ItemPrice:8.000 ShopName:Phoo\n",
      "customerID:6 OrderID: 14 CustomerName: Amish ItemName: Veg Hakka Noodles ItemQty:2 ItemPrice:8.000 ShopName:Phoo\n",
      "customerID:6 OrderID: 15 CustomerName: Amish ItemName: Veg Hakka Noodles ItemQty:2 ItemPrice:8.000 ShopName:Phoo\n",
      "customerID:7 OrderID: 16 CustomerName: Shriya ItemName: PepsiMaxCan ItemQty:2 ItemPrice:1.000 ShopName:PretManger\n",
      "customerID:7 OrderID: 16 CustomerName: Shriya ItemName: DietCokeCan ItemQty:2 ItemPrice:1.000 ShopName:PretManger\n",
      "customerID:7 OrderID: 16 CustomerName: Shriya ItemName: Veg Hakka Noodles ItemQty:2 ItemPrice:8.000 ShopName:Phoo\n",
      "customerID:7 OrderID: 17 CustomerName: Shriya ItemName: Daal Chawal ItemQty:2 ItemPrice:10.000 ShopName:NamasteExeter\n",
      "customerID:7 OrderID: 17 CustomerName: Shriya ItemName: Chole Bhature ItemQty:2 ItemPrice:12.000 ShopName:NamasteExeter\n",
      "customerID:7 OrderID: 17 CustomerName: Shriya ItemName: North Indian Thaali ItemQty:2 ItemPrice:15.000 ShopName:NamasteExeter\n",
      "customerID:8 OrderID: 18 CustomerName: Gulam ItemName: PepsiMaxCan ItemQty:2 ItemPrice:1.000 ShopName:PretManger\n",
      "customerID:8 OrderID: 18 CustomerName: Gulam ItemName: DietCokeCan ItemQty:2 ItemPrice:1.000 ShopName:PretManger\n",
      "customerID:8 OrderID: 18 CustomerName: Gulam ItemName: Veg Hakka Noodles ItemQty:2 ItemPrice:8.000 ShopName:Phoo\n",
      "customerID:8 OrderID: 18 CustomerName: Gulam ItemName: Daal Chawal ItemQty:2 ItemPrice:10.000 ShopName:NamasteExeter\n",
      "customerID:8 OrderID: 18 CustomerName: Gulam ItemName: Chole Bhature ItemQty:2 ItemPrice:12.000 ShopName:NamasteExeter\n",
      "customerID:8 OrderID: 18 CustomerName: Gulam ItemName: North Indian Thaali ItemQty:2 ItemPrice:15.000 ShopName:NamasteExeter\n",
      "customerID:9 OrderID: 19 CustomerName: Divyansh ItemName: PepsiMaxCan ItemQty:2 ItemPrice:1.000 ShopName:PretManger\n",
      "customerID:9 OrderID: 19 CustomerName: Divyansh ItemName: DietCokeCan ItemQty:2 ItemPrice:1.000 ShopName:PretManger\n",
      "customerID:9 OrderID: 19 CustomerName: Divyansh ItemName: Veg Hakka Noodles ItemQty:2 ItemPrice:8.000 ShopName:Phoo\n",
      "customerID:9 OrderID: 20 CustomerName: Divyansh ItemName: Daal Chawal ItemQty:2 ItemPrice:10.000 ShopName:NamasteExeter\n",
      "customerID:9 OrderID: 20 CustomerName: Divyansh ItemName: Chole Bhature ItemQty:2 ItemPrice:12.000 ShopName:NamasteExeter\n",
      "customerID:9 OrderID: 20 CustomerName: Divyansh ItemName: North Indian Thaali ItemQty:2 ItemPrice:15.000 ShopName:NamasteExeter\n",
      "customerID:10 OrderID: 21 CustomerName: Dinda ItemName: Veg Fried Rice ItemQty:4 ItemPrice:8.000 ShopName:Phoo\n",
      "customerID:11 OrderID: 22 CustomerName: Dasds ItemName: Chicken Noodles ItemQty:40 ItemPrice:9.000 ShopName:Phoo\n"
     ]
    }
   ],
   "source": [
    "#Displaying all customers and their respective Orders where one customer can have multiple orders\n",
    "\n",
    "for c,o,i,s in objSession5.query(Customer,Order,Item,Shop).filter(Customer.id == Order.cust_id,Order.item_id==Item.id,Shop.id==Order.shop_id).all():\n",
    "    print (\"customerID:{} OrderID: {} CustomerName: {} ItemName: {} ItemQty:{} ItemPrice:{} ShopName:{}\".format(c.id,o.id,c.cust_name, i.item_name,o.item_qty,i.item_price,s.shop_name))\n"
   ]
  },
  {
   "cell_type": "code",
   "execution_count": 98,
   "id": "764c5711",
   "metadata": {},
   "outputs": [
    {
     "name": "stdout",
     "output_type": "stream",
     "text": [
      "\n",
      "Enter CustomerID to be deleted:3\n",
      "2022-03-30 19:19:36,084 INFO sqlalchemy.engine.Engine SELECT customers.id AS customers_id, customers.cust_name AS customers_cust_name, customers.cust_email AS customers_cust_email, customers.\"cust_addressLine1\" AS \"customers_cust_addressLine1\", customers.\"cust_postalCode\" AS \"customers_cust_postalCode\", customers.cust_contact AS customers_cust_contact \n",
      "FROM customers \n",
      "WHERE customers.id = ?\n",
      "2022-03-30 19:19:36,085 INFO sqlalchemy.engine.Engine [generated in 0.00108s] (3,)\n",
      "############### CustomerID To be deleted is :3 ###############\n",
      "############### Customer and respective Orders Before Delete ####################\n",
      "2022-03-30 19:19:36,088 INFO sqlalchemy.engine.Engine SELECT orders.id AS orders_id, orders.cust_id AS orders_cust_id, orders.item_id AS orders_item_id, orders.item_qty AS orders_item_qty, orders.shop_id AS orders_shop_id \n",
      "FROM orders \n",
      "WHERE ? = orders.cust_id\n",
      "2022-03-30 19:19:36,089 INFO sqlalchemy.engine.Engine [generated in 0.00078s] (3,)\n",
      "2022-03-30 19:19:36,091 INFO sqlalchemy.engine.Engine DELETE FROM orders WHERE orders.id = ? AND orders.item_id = ? AND orders.shop_id = ?\n",
      "2022-03-30 19:19:36,092 INFO sqlalchemy.engine.Engine [generated in 0.00114s] ((4, 6, 4), (4, 21, 4), (5, 22, 4), (6, 36, 7), (6, 37, 7), (6, 39, 7))\n",
      "2022-03-30 19:19:36,095 INFO sqlalchemy.engine.Engine DELETE FROM customers WHERE customers.id = ?\n",
      "2022-03-30 19:19:36,095 INFO sqlalchemy.engine.Engine [generated in 0.00044s] (3,)\n",
      "2022-03-30 19:19:36,096 INFO sqlalchemy.engine.Engine COMMIT\n"
     ]
    }
   ],
   "source": [
    "custDeleteInput=int(input(\"\\nEnter CustomerID to be deleted:\"))\n",
    "customerCheckStatus=customerCheck(custDeleteInput,cur)\n",
    "if(customerCheckStatus==1):\n",
    "    recordSetCustOrdersDelete = objSession5.query(Customer).get(custDeleteInput)\n",
    "    print(\"############### CustomerID To be deleted is :{} ###############\".format(recordSetCustOrdersDelete.id))\n",
    "    print (\"############### Customer and respective Orders Before Delete ####################\")\n",
    "    objSession5.delete(recordSetCustOrdersDelete)\n",
    "    objSession5.commit()\n",
    "    conn5.commit()\n",
    "    #for c,o,i,s in objSession5.query(Customer,Order,Item,Shop).filter(Customer.id == Order.cust_id,Order.item_id==Item.id,Shop.id==Order.shop_id).all():\n",
    "     #   print (\"OrderID: {} CustomerName: {} ItemName: {} ItemQty:{} ItemPrice:{} ShopName:{}\".format(o.id,c.cust_name, i.item_name,o.item_qty,i.item_price,s.shop_name))\n",
    "\n",
    "    \n",
    "else:\n",
    "    print(\"Customer does not exist.\")\n"
   ]
  },
  {
   "cell_type": "code",
   "execution_count": 99,
   "id": "d5123d7c",
   "metadata": {},
   "outputs": [
    {
     "name": "stdout",
     "output_type": "stream",
     "text": [
      "############### List of customers after delete ###############\n",
      "2022-03-30 19:19:39,494 INFO sqlalchemy.engine.Engine BEGIN (implicit)\n",
      "2022-03-30 19:19:39,495 INFO sqlalchemy.engine.Engine SELECT customers.id AS customers_id, customers.cust_name AS customers_cust_name, customers.cust_email AS customers_cust_email, customers.\"cust_addressLine1\" AS \"customers_cust_addressLine1\", customers.\"cust_postalCode\" AS \"customers_cust_postalCode\", customers.cust_contact AS customers_cust_contact \n",
      "FROM customers\n",
      "2022-03-30 19:19:39,496 INFO sqlalchemy.engine.Engine [generated in 0.00097s] ()\n",
      "Customer ID:1 CustomerName:Sai CustomerEmail:sai.chakraborty@exe.in \n",
      "Customer ID:2 CustomerName:Tejas CustomerEmail:tejas.kale@exe.in \n",
      "Customer ID:4 CustomerName:Ravi CustomerEmail:ravi,janu@exe.in \n",
      "Customer ID:5 CustomerName:Apurva CustomerEmail:apurva.singh@exe.in \n",
      "Customer ID:6 CustomerName:Amish CustomerEmail:amish.shah@exe.in \n",
      "Customer ID:7 CustomerName:Shriya CustomerEmail:shriya.johari@exe.in \n",
      "Customer ID:8 CustomerName:Gulam CustomerEmail:gulam.khan@exe.in \n",
      "Customer ID:9 CustomerName:Divyansh CustomerEmail:divyansh.upasani@exe.in \n",
      "Customer ID:10 CustomerName:Dinda CustomerEmail:Dinda@exeter.ac.uk \n",
      "Customer ID:11 CustomerName:Dasds CustomerEmail:sgdvfds@jhwvefwe.sdhf \n",
      "############### List of orders after delete ###############\n",
      "2022-03-30 19:19:39,499 INFO sqlalchemy.engine.Engine SELECT orders.id AS orders_id, orders.cust_id AS orders_cust_id, orders.item_id AS orders_item_id, orders.item_qty AS orders_item_qty, orders.shop_id AS orders_shop_id \n",
      "FROM orders\n",
      "2022-03-30 19:19:39,500 INFO sqlalchemy.engine.Engine [generated in 0.00094s] ()\n",
      "OrderID:1 OrderedItemID:1 ItemQty:2 OrderedFromShopID:1 \n",
      "OrderID:1 OrderedItemID:2 ItemQty:1 OrderedFromShopID:1 \n",
      "OrderID:1 OrderedItemID:8 ItemQty:1 OrderedFromShopID:1 \n",
      "OrderID:2 OrderedItemID:6 ItemQty:2 OrderedFromShopID:1 \n",
      "OrderID:2 OrderedItemID:6 ItemQty:2 OrderedFromShopID:2 \n",
      "OrderID:2 OrderedItemID:11 ItemQty:2 OrderedFromShopID:2 \n",
      "OrderID:3 OrderedItemID:16 ItemQty:2 OrderedFromShopID:3 \n",
      "OrderID:3 OrderedItemID:17 ItemQty:2 OrderedFromShopID:3 \n",
      "OrderID:3 OrderedItemID:18 ItemQty:2 OrderedFromShopID:3 \n",
      "OrderID:7 OrderedItemID:1 ItemQty:2 OrderedFromShopID:1 \n",
      "OrderID:7 OrderedItemID:11 ItemQty:2 OrderedFromShopID:2 \n",
      "OrderID:7 OrderedItemID:16 ItemQty:2 OrderedFromShopID:3 \n",
      "OrderID:7 OrderedItemID:21 ItemQty:2 OrderedFromShopID:4 \n",
      "OrderID:7 OrderedItemID:26 ItemQty:2 OrderedFromShopID:5 \n",
      "OrderID:7 OrderedItemID:31 ItemQty:2 OrderedFromShopID:6 \n",
      "OrderID:7 OrderedItemID:36 ItemQty:2 OrderedFromShopID:7 \n",
      "OrderID:8 OrderedItemID:8 ItemQty:2 OrderedFromShopID:1 \n",
      "OrderID:8 OrderedItemID:9 ItemQty:2 OrderedFromShopID:1 \n",
      "OrderID:8 OrderedItemID:38 ItemQty:2 OrderedFromShopID:7 \n",
      "OrderID:9 OrderedItemID:31 ItemQty:2 OrderedFromShopID:6 \n",
      "OrderID:9 OrderedItemID:32 ItemQty:2 OrderedFromShopID:6 \n",
      "OrderID:9 OrderedItemID:33 ItemQty:2 OrderedFromShopID:6 \n",
      "OrderID:10 OrderedItemID:38 ItemQty:2 OrderedFromShopID:7 \n",
      "OrderID:11 OrderedItemID:38 ItemQty:2 OrderedFromShopID:7 \n",
      "OrderID:12 OrderedItemID:38 ItemQty:2 OrderedFromShopID:7 \n",
      "OrderID:13 OrderedItemID:38 ItemQty:2 OrderedFromShopID:7 \n",
      "OrderID:14 OrderedItemID:38 ItemQty:2 OrderedFromShopID:7 \n",
      "OrderID:15 OrderedItemID:38 ItemQty:2 OrderedFromShopID:7 \n",
      "OrderID:16 OrderedItemID:8 ItemQty:2 OrderedFromShopID:1 \n",
      "OrderID:16 OrderedItemID:9 ItemQty:2 OrderedFromShopID:1 \n",
      "OrderID:16 OrderedItemID:38 ItemQty:2 OrderedFromShopID:7 \n",
      "OrderID:17 OrderedItemID:31 ItemQty:2 OrderedFromShopID:6 \n",
      "OrderID:17 OrderedItemID:32 ItemQty:2 OrderedFromShopID:6 \n",
      "OrderID:17 OrderedItemID:33 ItemQty:2 OrderedFromShopID:6 \n",
      "OrderID:18 OrderedItemID:8 ItemQty:2 OrderedFromShopID:1 \n",
      "OrderID:18 OrderedItemID:9 ItemQty:2 OrderedFromShopID:1 \n",
      "OrderID:18 OrderedItemID:38 ItemQty:2 OrderedFromShopID:7 \n",
      "OrderID:18 OrderedItemID:31 ItemQty:2 OrderedFromShopID:6 \n",
      "OrderID:18 OrderedItemID:32 ItemQty:2 OrderedFromShopID:6 \n",
      "OrderID:18 OrderedItemID:33 ItemQty:2 OrderedFromShopID:6 \n",
      "OrderID:19 OrderedItemID:8 ItemQty:2 OrderedFromShopID:1 \n",
      "OrderID:19 OrderedItemID:9 ItemQty:2 OrderedFromShopID:1 \n",
      "OrderID:19 OrderedItemID:38 ItemQty:2 OrderedFromShopID:7 \n",
      "OrderID:20 OrderedItemID:31 ItemQty:2 OrderedFromShopID:6 \n",
      "OrderID:20 OrderedItemID:32 ItemQty:2 OrderedFromShopID:6 \n",
      "OrderID:20 OrderedItemID:33 ItemQty:2 OrderedFromShopID:6 \n",
      "OrderID:21 OrderedItemID:36 ItemQty:4 OrderedFromShopID:7 \n",
      "OrderID:22 OrderedItemID:40 ItemQty:40 OrderedFromShopID:7 \n",
      "############### End Of Result ####################\n"
     ]
    }
   ],
   "source": [
    "print (\"############### List of customers after delete ###############\")\n",
    "for c in objSession5.query(Customer).all():\n",
    "       print (\"Customer ID:{} CustomerName:{} CustomerEmail:{} \".format(c.id,c.cust_name,c.cust_email))\n",
    "    #objSession5.commit()\n",
    "print (\"############### List of orders after delete ###############\")\n",
    "for o in objSession5.query(Order).all():\n",
    "    print (\"OrderID:{} OrderedItemID:{} ItemQty:{} OrderedFromShopID:{} \".format(o.id,o.item_id,o.item_qty,o.shop_id))\n",
    "    #objSession5.commit()\n",
    "print (\"############### End Of Result ####################\")\n"
   ]
  },
  {
   "cell_type": "code",
   "execution_count": 100,
   "id": "a4f0bf59",
   "metadata": {},
   "outputs": [
    {
     "name": "stdout",
     "output_type": "stream",
     "text": [
      "2022-03-30 19:19:47,632 INFO sqlalchemy.engine.Engine ROLLBACK\n"
     ]
    },
    {
     "name": "stderr",
     "output_type": "stream",
     "text": [
      "C:\\Users\\tejas\\AppData\\Local\\Temp/ipykernel_16736/2516157885.py:1: SADeprecationWarning: The Session.close_all() method is deprecated and will be removed in a future release.  Please refer to session.close_all_sessions(). (deprecated since: 1.3)\n",
      "  objSession5.close_all()\n"
     ]
    }
   ],
   "source": [
    "objSession5.close_all()\n",
    "conn5.close()"
   ]
  },
  {
   "cell_type": "markdown",
   "id": "23291a84",
   "metadata": {},
   "source": [
    "### Update price of Items for a ShopID"
   ]
  },
  {
   "cell_type": "code",
   "execution_count": 101,
   "id": "06971248",
   "metadata": {},
   "outputs": [],
   "source": [
    "conn6=sqlite3.connect(pathForSQLConn)\n",
    "cur=conn6.cursor()\n",
    "objSession6 = Session()"
   ]
  },
  {
   "cell_type": "code",
   "execution_count": 102,
   "id": "8e26dd4d",
   "metadata": {},
   "outputs": [],
   "source": [
    "def updateItemPrice(cur,shopID,percentIncrease):\n",
    "    \n",
    "    #Query to find total sum of item prices for a order\n",
    "    qry1 = '''update items\n",
    "    set item_price=item_price+((item_price*?)/100)\n",
    "    from link as l\n",
    "    where l.shop_id=? and l.item_id=items.id\n",
    "    '''\n",
    "    cur.execute(qry1,(percentIncrease,shopID,))\n",
    "    conn6.commit()\n",
    "    return 1"
   ]
  },
  {
   "cell_type": "code",
   "execution_count": 103,
   "id": "01fca1b9",
   "metadata": {},
   "outputs": [],
   "source": [
    "def printAllShopsAndItems(sessionObj):\n",
    "    for shopItem in sessionObj.query(Shop, Item).filter(Link.shop_id == Shop.id, Link.item_id == Item.id).order_by(Link.shop_id,Link.item_id).all():\n",
    "        print (\"ShopID: {} ShopName: {} ItemID: {} ItemName: {} ItemPrice:{}\".format(shopItem.Shop.id,shopItem.Shop.shop_name,shopItem.Item.id,shopItem.Item.item_name,shopItem.Item.item_price))    \n"
   ]
  },
  {
   "cell_type": "code",
   "execution_count": 104,
   "id": "036bb3ff",
   "metadata": {},
   "outputs": [
    {
     "name": "stdout",
     "output_type": "stream",
     "text": [
      "Enter shopID to update item price7\n",
      "Enter % to increate item price15\n",
      " ##################### All Items before update ##################### \n",
      "2022-03-30 19:20:02,228 INFO sqlalchemy.engine.Engine BEGIN (implicit)\n",
      "2022-03-30 19:20:02,229 INFO sqlalchemy.engine.Engine SELECT shops.id AS shops_id, shops.shop_name AS shops_shop_name, shops.shop_cuisine AS shops_shop_cuisine, shops.\"shop_addressLine1\" AS \"shops_shop_addressLine1\", shops.\"shop_postalCode\" AS \"shops_shop_postalCode\", shops.shop_contact AS shops_shop_contact, items.id AS items_id, items.item_name AS items_item_name, items.item_price AS items_item_price \n",
      "FROM shops, items, link \n",
      "WHERE link.shop_id = shops.id AND link.item_id = items.id ORDER BY link.shop_id, link.item_id\n",
      "2022-03-30 19:20:02,230 INFO sqlalchemy.engine.Engine [cached since 265.2s ago] ()\n",
      "ShopID: 1 ShopName: PretManger ItemID: 1 ItemName: Latte ItemPrice:2.500\n",
      "ShopID: 1 ShopName: PretManger ItemID: 2 ItemName: Capuchino ItemPrice:2.500\n",
      "ShopID: 1 ShopName: PretManger ItemID: 3 ItemName: Pinapple Smoothie ItemPrice:3.000\n",
      "ShopID: 1 ShopName: PretManger ItemID: 4 ItemName: Hot Chocolate ItemPrice:3.250\n",
      "ShopID: 1 ShopName: PretManger ItemID: 5 ItemName: Chai Latte ItemPrice:2.750\n",
      "ShopID: 1 ShopName: PretManger ItemID: 6 ItemName: CokeCan ItemPrice:1.000\n",
      "ShopID: 1 ShopName: PretManger ItemID: 7 ItemName: PepsiCan ItemPrice:1.000\n",
      "ShopID: 1 ShopName: PretManger ItemID: 8 ItemName: PepsiMaxCan ItemPrice:1.000\n",
      "ShopID: 1 ShopName: PretManger ItemID: 9 ItemName: DietCokeCan ItemPrice:1.000\n",
      "ShopID: 1 ShopName: PretManger ItemID: 10 ItemName: FantaCan ItemPrice:1.000\n",
      "ShopID: 2 ShopName: Subway ItemID: 6 ItemName: CokeCan ItemPrice:1.000\n",
      "ShopID: 2 ShopName: Subway ItemID: 7 ItemName: PepsiCan ItemPrice:1.000\n",
      "ShopID: 2 ShopName: Subway ItemID: 8 ItemName: PepsiMaxCan ItemPrice:1.000\n",
      "ShopID: 2 ShopName: Subway ItemID: 9 ItemName: DietCokeCan ItemPrice:1.000\n",
      "ShopID: 2 ShopName: Subway ItemID: 10 ItemName: FantaCan ItemPrice:1.000\n",
      "ShopID: 2 ShopName: Subway ItemID: 11 ItemName: Veg Sandwich ItemPrice:4.000\n",
      "ShopID: 2 ShopName: Subway ItemID: 12 ItemName: Chicken Sandwich ItemPrice:4.000\n",
      "ShopID: 2 ShopName: Subway ItemID: 13 ItemName: Egg Sandwich ItemPrice:4.000\n",
      "ShopID: 2 ShopName: Subway ItemID: 14 ItemName: Pork Sandwich ItemPrice:4.000\n",
      "ShopID: 2 ShopName: Subway ItemID: 15 ItemName: Lamb Sandwich ItemPrice:4.000\n",
      "ShopID: 3 ShopName: MacD ItemID: 6 ItemName: CokeCan ItemPrice:1.000\n",
      "ShopID: 3 ShopName: MacD ItemID: 7 ItemName: PepsiCan ItemPrice:1.000\n",
      "ShopID: 3 ShopName: MacD ItemID: 8 ItemName: PepsiMaxCan ItemPrice:1.000\n",
      "ShopID: 3 ShopName: MacD ItemID: 9 ItemName: DietCokeCan ItemPrice:1.000\n",
      "ShopID: 3 ShopName: MacD ItemID: 10 ItemName: FantaCan ItemPrice:1.000\n",
      "ShopID: 3 ShopName: MacD ItemID: 16 ItemName: MaC Vegie ItemPrice:6.000\n",
      "ShopID: 3 ShopName: MacD ItemID: 17 ItemName: MaC Aloo Tikki ItemPrice:6.000\n",
      "ShopID: 3 ShopName: MacD ItemID: 18 ItemName: MaC Chicken ItemPrice:6.000\n",
      "ShopID: 3 ShopName: MacD ItemID: 19 ItemName: MaC Puff ItemPrice:6.000\n",
      "ShopID: 3 ShopName: MacD ItemID: 20 ItemName: Chicken Nugets ItemPrice:6.000\n",
      "ShopID: 4 ShopName: PizzaHut ItemID: 6 ItemName: CokeCan ItemPrice:1.000\n",
      "ShopID: 4 ShopName: PizzaHut ItemID: 7 ItemName: PepsiCan ItemPrice:1.000\n",
      "ShopID: 4 ShopName: PizzaHut ItemID: 8 ItemName: PepsiMaxCan ItemPrice:1.000\n",
      "ShopID: 4 ShopName: PizzaHut ItemID: 9 ItemName: DietCokeCan ItemPrice:1.000\n",
      "ShopID: 4 ShopName: PizzaHut ItemID: 10 ItemName: FantaCan ItemPrice:1.000\n",
      "ShopID: 4 ShopName: PizzaHut ItemID: 21 ItemName: Veg Paradise Pizza ItemPrice:9.000\n",
      "ShopID: 4 ShopName: PizzaHut ItemID: 22 ItemName: Cheese Pizza ItemPrice:9.000\n",
      "ShopID: 4 ShopName: PizzaHut ItemID: 23 ItemName: Chicken Pizza ItemPrice:9.000\n",
      "ShopID: 4 ShopName: PizzaHut ItemID: 24 ItemName: Mexican Pizza ItemPrice:9.000\n",
      "ShopID: 4 ShopName: PizzaHut ItemID: 25 ItemName: Garlick Bread ItemPrice:5.500\n",
      "ShopID: 5 ShopName: Karma ItemID: 6 ItemName: CokeCan ItemPrice:1.000\n",
      "ShopID: 5 ShopName: Karma ItemID: 7 ItemName: PepsiCan ItemPrice:1.000\n",
      "ShopID: 5 ShopName: Karma ItemID: 8 ItemName: PepsiMaxCan ItemPrice:1.000\n",
      "ShopID: 5 ShopName: Karma ItemID: 9 ItemName: DietCokeCan ItemPrice:1.000\n",
      "ShopID: 5 ShopName: Karma ItemID: 10 ItemName: FantaCan ItemPrice:1.000\n",
      "ShopID: 5 ShopName: Karma ItemID: 26 ItemName: Paani Puri ItemPrice:6.000\n",
      "ShopID: 5 ShopName: Karma ItemID: 27 ItemName: Bhel ItemPrice:10.000\n",
      "ShopID: 5 ShopName: Karma ItemID: 28 ItemName: Dahi Puri ItemPrice:9.000\n",
      "ShopID: 5 ShopName: Karma ItemID: 29 ItemName: Pav Kachori ItemPrice:6.500\n",
      "ShopID: 5 ShopName: Karma ItemID: 30 ItemName: Aloo Chaat ItemPrice:4.000\n",
      "ShopID: 6 ShopName: NamasteExeter ItemID: 6 ItemName: CokeCan ItemPrice:1.000\n",
      "ShopID: 6 ShopName: NamasteExeter ItemID: 7 ItemName: PepsiCan ItemPrice:1.000\n",
      "ShopID: 6 ShopName: NamasteExeter ItemID: 8 ItemName: PepsiMaxCan ItemPrice:1.000\n",
      "ShopID: 6 ShopName: NamasteExeter ItemID: 9 ItemName: DietCokeCan ItemPrice:1.000\n",
      "ShopID: 6 ShopName: NamasteExeter ItemID: 10 ItemName: FantaCan ItemPrice:1.000\n",
      "ShopID: 6 ShopName: NamasteExeter ItemID: 31 ItemName: Daal Chawal ItemPrice:10.000\n",
      "ShopID: 6 ShopName: NamasteExeter ItemID: 32 ItemName: Chole Bhature ItemPrice:12.000\n",
      "ShopID: 6 ShopName: NamasteExeter ItemID: 33 ItemName: North Indian Thaali ItemPrice:15.000\n",
      "ShopID: 6 ShopName: NamasteExeter ItemID: 34 ItemName: Maharashtrian Thali ItemPrice:15.000\n",
      "ShopID: 6 ShopName: NamasteExeter ItemID: 35 ItemName: Chicken Thaali ItemPrice:15.000\n",
      "ShopID: 7 ShopName: Phoo ItemID: 6 ItemName: CokeCan ItemPrice:1.000\n",
      "ShopID: 7 ShopName: Phoo ItemID: 7 ItemName: PepsiCan ItemPrice:1.000\n",
      "ShopID: 7 ShopName: Phoo ItemID: 8 ItemName: PepsiMaxCan ItemPrice:1.000\n",
      "ShopID: 7 ShopName: Phoo ItemID: 9 ItemName: DietCokeCan ItemPrice:1.000\n",
      "ShopID: 7 ShopName: Phoo ItemID: 10 ItemName: FantaCan ItemPrice:1.000\n",
      "ShopID: 7 ShopName: Phoo ItemID: 36 ItemName: Veg Fried Rice ItemPrice:8.000\n",
      "ShopID: 7 ShopName: Phoo ItemID: 37 ItemName: Chicken Fried Rice ItemPrice:9.000\n",
      "ShopID: 7 ShopName: Phoo ItemID: 38 ItemName: Veg Hakka Noodles ItemPrice:8.000\n",
      "ShopID: 7 ShopName: Phoo ItemID: 39 ItemName: Burnt Garlic Rice ItemPrice:9.000\n",
      "ShopID: 7 ShopName: Phoo ItemID: 40 ItemName: Chicken Noodles ItemPrice:9.000\n",
      "2022-03-30 19:20:02,292 INFO sqlalchemy.engine.Engine COMMIT\n",
      " ##################### All Items after update ##################### \n",
      "2022-03-30 19:20:02,293 INFO sqlalchemy.engine.Engine BEGIN (implicit)\n",
      "2022-03-30 19:20:02,294 INFO sqlalchemy.engine.Engine SELECT shops.id AS shops_id, shops.shop_name AS shops_shop_name, shops.shop_cuisine AS shops_shop_cuisine, shops.\"shop_addressLine1\" AS \"shops_shop_addressLine1\", shops.\"shop_postalCode\" AS \"shops_shop_postalCode\", shops.shop_contact AS shops_shop_contact, items.id AS items_id, items.item_name AS items_item_name, items.item_price AS items_item_price \n",
      "FROM shops, items, link \n",
      "WHERE link.shop_id = shops.id AND link.item_id = items.id ORDER BY link.shop_id, link.item_id\n",
      "2022-03-30 19:20:02,295 INFO sqlalchemy.engine.Engine [cached since 265.2s ago] ()\n",
      "ShopID: 1 ShopName: PretManger ItemID: 1 ItemName: Latte ItemPrice:2.500\n",
      "ShopID: 1 ShopName: PretManger ItemID: 2 ItemName: Capuchino ItemPrice:2.500\n",
      "ShopID: 1 ShopName: PretManger ItemID: 3 ItemName: Pinapple Smoothie ItemPrice:3.000\n",
      "ShopID: 1 ShopName: PretManger ItemID: 4 ItemName: Hot Chocolate ItemPrice:3.250\n",
      "ShopID: 1 ShopName: PretManger ItemID: 5 ItemName: Chai Latte ItemPrice:2.750\n",
      "ShopID: 1 ShopName: PretManger ItemID: 6 ItemName: CokeCan ItemPrice:1.000\n",
      "ShopID: 1 ShopName: PretManger ItemID: 7 ItemName: PepsiCan ItemPrice:1.000\n",
      "ShopID: 1 ShopName: PretManger ItemID: 8 ItemName: PepsiMaxCan ItemPrice:1.000\n",
      "ShopID: 1 ShopName: PretManger ItemID: 9 ItemName: DietCokeCan ItemPrice:1.000\n",
      "ShopID: 1 ShopName: PretManger ItemID: 10 ItemName: FantaCan ItemPrice:1.000\n",
      "ShopID: 2 ShopName: Subway ItemID: 6 ItemName: CokeCan ItemPrice:1.000\n",
      "ShopID: 2 ShopName: Subway ItemID: 7 ItemName: PepsiCan ItemPrice:1.000\n",
      "ShopID: 2 ShopName: Subway ItemID: 8 ItemName: PepsiMaxCan ItemPrice:1.000\n",
      "ShopID: 2 ShopName: Subway ItemID: 9 ItemName: DietCokeCan ItemPrice:1.000\n",
      "ShopID: 2 ShopName: Subway ItemID: 10 ItemName: FantaCan ItemPrice:1.000\n",
      "ShopID: 2 ShopName: Subway ItemID: 11 ItemName: Veg Sandwich ItemPrice:4.000\n",
      "ShopID: 2 ShopName: Subway ItemID: 12 ItemName: Chicken Sandwich ItemPrice:4.000\n",
      "ShopID: 2 ShopName: Subway ItemID: 13 ItemName: Egg Sandwich ItemPrice:4.000\n",
      "ShopID: 2 ShopName: Subway ItemID: 14 ItemName: Pork Sandwich ItemPrice:4.000\n",
      "ShopID: 2 ShopName: Subway ItemID: 15 ItemName: Lamb Sandwich ItemPrice:4.000\n",
      "ShopID: 3 ShopName: MacD ItemID: 6 ItemName: CokeCan ItemPrice:1.000\n",
      "ShopID: 3 ShopName: MacD ItemID: 7 ItemName: PepsiCan ItemPrice:1.000\n",
      "ShopID: 3 ShopName: MacD ItemID: 8 ItemName: PepsiMaxCan ItemPrice:1.000\n",
      "ShopID: 3 ShopName: MacD ItemID: 9 ItemName: DietCokeCan ItemPrice:1.000\n",
      "ShopID: 3 ShopName: MacD ItemID: 10 ItemName: FantaCan ItemPrice:1.000\n",
      "ShopID: 3 ShopName: MacD ItemID: 16 ItemName: MaC Vegie ItemPrice:6.000\n",
      "ShopID: 3 ShopName: MacD ItemID: 17 ItemName: MaC Aloo Tikki ItemPrice:6.000\n",
      "ShopID: 3 ShopName: MacD ItemID: 18 ItemName: MaC Chicken ItemPrice:6.000\n",
      "ShopID: 3 ShopName: MacD ItemID: 19 ItemName: MaC Puff ItemPrice:6.000\n",
      "ShopID: 3 ShopName: MacD ItemID: 20 ItemName: Chicken Nugets ItemPrice:6.000\n",
      "ShopID: 4 ShopName: PizzaHut ItemID: 6 ItemName: CokeCan ItemPrice:1.000\n",
      "ShopID: 4 ShopName: PizzaHut ItemID: 7 ItemName: PepsiCan ItemPrice:1.000\n",
      "ShopID: 4 ShopName: PizzaHut ItemID: 8 ItemName: PepsiMaxCan ItemPrice:1.000\n",
      "ShopID: 4 ShopName: PizzaHut ItemID: 9 ItemName: DietCokeCan ItemPrice:1.000\n",
      "ShopID: 4 ShopName: PizzaHut ItemID: 10 ItemName: FantaCan ItemPrice:1.000\n",
      "ShopID: 4 ShopName: PizzaHut ItemID: 21 ItemName: Veg Paradise Pizza ItemPrice:9.000\n",
      "ShopID: 4 ShopName: PizzaHut ItemID: 22 ItemName: Cheese Pizza ItemPrice:9.000\n",
      "ShopID: 4 ShopName: PizzaHut ItemID: 23 ItemName: Chicken Pizza ItemPrice:9.000\n",
      "ShopID: 4 ShopName: PizzaHut ItemID: 24 ItemName: Mexican Pizza ItemPrice:9.000\n",
      "ShopID: 4 ShopName: PizzaHut ItemID: 25 ItemName: Garlick Bread ItemPrice:5.500\n",
      "ShopID: 5 ShopName: Karma ItemID: 6 ItemName: CokeCan ItemPrice:1.000\n",
      "ShopID: 5 ShopName: Karma ItemID: 7 ItemName: PepsiCan ItemPrice:1.000\n",
      "ShopID: 5 ShopName: Karma ItemID: 8 ItemName: PepsiMaxCan ItemPrice:1.000\n",
      "ShopID: 5 ShopName: Karma ItemID: 9 ItemName: DietCokeCan ItemPrice:1.000\n",
      "ShopID: 5 ShopName: Karma ItemID: 10 ItemName: FantaCan ItemPrice:1.000\n",
      "ShopID: 5 ShopName: Karma ItemID: 26 ItemName: Paani Puri ItemPrice:6.000\n",
      "ShopID: 5 ShopName: Karma ItemID: 27 ItemName: Bhel ItemPrice:10.000\n",
      "ShopID: 5 ShopName: Karma ItemID: 28 ItemName: Dahi Puri ItemPrice:9.000\n",
      "ShopID: 5 ShopName: Karma ItemID: 29 ItemName: Pav Kachori ItemPrice:6.500\n",
      "ShopID: 5 ShopName: Karma ItemID: 30 ItemName: Aloo Chaat ItemPrice:4.000\n",
      "ShopID: 6 ShopName: NamasteExeter ItemID: 6 ItemName: CokeCan ItemPrice:1.000\n",
      "ShopID: 6 ShopName: NamasteExeter ItemID: 7 ItemName: PepsiCan ItemPrice:1.000\n",
      "ShopID: 6 ShopName: NamasteExeter ItemID: 8 ItemName: PepsiMaxCan ItemPrice:1.000\n",
      "ShopID: 6 ShopName: NamasteExeter ItemID: 9 ItemName: DietCokeCan ItemPrice:1.000\n",
      "ShopID: 6 ShopName: NamasteExeter ItemID: 10 ItemName: FantaCan ItemPrice:1.000\n",
      "ShopID: 6 ShopName: NamasteExeter ItemID: 31 ItemName: Daal Chawal ItemPrice:10.000\n",
      "ShopID: 6 ShopName: NamasteExeter ItemID: 32 ItemName: Chole Bhature ItemPrice:12.000\n",
      "ShopID: 6 ShopName: NamasteExeter ItemID: 33 ItemName: North Indian Thaali ItemPrice:15.000\n",
      "ShopID: 6 ShopName: NamasteExeter ItemID: 34 ItemName: Maharashtrian Thali ItemPrice:15.000\n",
      "ShopID: 6 ShopName: NamasteExeter ItemID: 35 ItemName: Chicken Thaali ItemPrice:15.000\n",
      "ShopID: 7 ShopName: Phoo ItemID: 6 ItemName: CokeCan ItemPrice:1.000\n",
      "ShopID: 7 ShopName: Phoo ItemID: 7 ItemName: PepsiCan ItemPrice:1.000\n",
      "ShopID: 7 ShopName: Phoo ItemID: 8 ItemName: PepsiMaxCan ItemPrice:1.000\n",
      "ShopID: 7 ShopName: Phoo ItemID: 9 ItemName: DietCokeCan ItemPrice:1.000\n",
      "ShopID: 7 ShopName: Phoo ItemID: 10 ItemName: FantaCan ItemPrice:1.000\n",
      "ShopID: 7 ShopName: Phoo ItemID: 36 ItemName: Veg Fried Rice ItemPrice:9.000\n",
      "ShopID: 7 ShopName: Phoo ItemID: 37 ItemName: Chicken Fried Rice ItemPrice:10.000\n",
      "ShopID: 7 ShopName: Phoo ItemID: 38 ItemName: Veg Hakka Noodles ItemPrice:9.000\n",
      "ShopID: 7 ShopName: Phoo ItemID: 39 ItemName: Burnt Garlic Rice ItemPrice:10.000\n",
      "ShopID: 7 ShopName: Phoo ItemID: 40 ItemName: Chicken Noodles ItemPrice:10.000\n"
     ]
    }
   ],
   "source": [
    "\n",
    "inShopId=int(input ('Enter shopID to update item price'))\n",
    "inPriceIncrease=int(input ('Enter % to increate item price'))\n",
    "\n",
    "print(\" ##################### All Items before update ##################### \")\n",
    "printAllShopsAndItems(objSession6)\n",
    "updateItemPrice(cur,inShopId,inPriceIncrease)\n",
    "conn6.commit()\n",
    "objSession6.commit()\n",
    "print(\" ##################### All Items after update ##################### \")\n",
    "printAllShopsAndItems(Session())\n",
    "\n"
   ]
  },
  {
   "cell_type": "code",
   "execution_count": 105,
   "id": "ea744ad5",
   "metadata": {},
   "outputs": [
    {
     "name": "stdout",
     "output_type": "stream",
     "text": [
      "2022-03-30 19:20:16,870 INFO sqlalchemy.engine.Engine ROLLBACK\n"
     ]
    },
    {
     "name": "stderr",
     "output_type": "stream",
     "text": [
      "C:\\Users\\tejas\\AppData\\Local\\Temp/ipykernel_16736/1140775.py:1: SADeprecationWarning: The Session.close_all() method is deprecated and will be removed in a future release.  Please refer to session.close_all_sessions(). (deprecated since: 1.3)\n",
      "  objSession6.close_all()\n"
     ]
    }
   ],
   "source": [
    "objSession6.close_all()\n",
    "conn6.close()"
   ]
  },
  {
   "cell_type": "markdown",
   "id": "380c2f4f",
   "metadata": {},
   "source": [
    "### Provide feedback for a order"
   ]
  },
  {
   "cell_type": "code",
   "execution_count": 106,
   "id": "b0f04595",
   "metadata": {},
   "outputs": [],
   "source": [
    "#Connection for the sqlite DB\n",
    "conn7=sqlite3.connect(pathForSQLConn)\n",
    "cur=conn7.cursor()\n",
    "objSession7 = Session()"
   ]
  },
  {
   "cell_type": "code",
   "execution_count": 107,
   "id": "74dd7420",
   "metadata": {},
   "outputs": [],
   "source": [
    "#Checking whether provided order ID is present in the table ot not\n",
    "\n",
    "def checkOrderId(inputOrderId,cur):  \n",
    "    qry=\"select id from orders where id=?;\"\n",
    "    cur.execute(qry,(inputOrderId,))\n",
    "    try:\n",
    "        coupon_check=cur.fetchone()[0]\n",
    "        #print(coupon_check)\n",
    "        return(True)\n",
    "\n",
    "    except:\n",
    "        return(False)"
   ]
  },
  {
   "cell_type": "code",
   "execution_count": 108,
   "id": "a110f087",
   "metadata": {},
   "outputs": [],
   "source": [
    "#Checking whether Feedback for an OrderID is already present or not.\n",
    "# As it is 1 to 1 relationship, one Order ID can have only One feedback\n",
    "\n",
    "def checkOrderInFeedbackTable(inputOrderId,cur):  \n",
    "    qry=\"select feedback_id from feedback where feedback_id=?;\"\n",
    "    cur.execute(qry,(inputOrderId,))\n",
    "    try:\n",
    "        OrderIdInFeedbackCheck=cur.fetchone()[0]\n",
    "        #print(OrderIdInFeedbackCheck)\n",
    "        return(True)\n",
    "\n",
    "    except:\n",
    "        return(False)"
   ]
  },
  {
   "cell_type": "code",
   "execution_count": 111,
   "id": "b5920cbf",
   "metadata": {},
   "outputs": [
    {
     "name": "stdout",
     "output_type": "stream",
     "text": [
      "Enter OrderID to provide feedback:1\n",
      "\n",
      "Feedback for this order is already present.\n"
     ]
    }
   ],
   "source": [
    "\n",
    "OrderIDForFeedback = int(input(\"Enter OrderID to provide feedback:\"))\n",
    "OrderCheckStatus=checkOrderId(OrderIDForFeedback,cur)\n",
    "#print(OrderCheckStatus)\n",
    "OrderIdInFeedbackCheck=checkOrderInFeedbackTable(OrderIDForFeedback,cur)\n",
    "#print(OrderIdInFeedbackCheck)\n",
    "\n",
    "if(OrderCheckStatus==True):\n",
    "    if(OrderIdInFeedbackCheck==False):\n",
    "        OrderFeedbackInput=input(\"Please provide Feedback for the selected orderID\")\n",
    "        objSession7.add(Feedback(order_id=OrderIDForFeedback,feedback_text=OrderFeedbackInput))\n",
    "        objSession7.commit()\n",
    "    else:\n",
    "        print(\"\\nFeedback for this order is already present.\")  \n",
    "else:\n",
    "     print(\"\\nInvalid OrderID. Please Try again with correct OrderID\")\n",
    "\n"
   ]
  },
  {
   "cell_type": "code",
   "execution_count": 112,
   "id": "265ea6ed",
   "metadata": {},
   "outputs": [
    {
     "name": "stdout",
     "output_type": "stream",
     "text": [
      "2022-03-30 19:20:42,546 INFO sqlalchemy.engine.Engine BEGIN (implicit)\n",
      "2022-03-30 19:20:42,548 INFO sqlalchemy.engine.Engine SELECT feedback.feedback_id AS feedback_feedback_id, feedback.order_id AS feedback_order_id, feedback.feedback_text AS feedback_feedback_text \n",
      "FROM feedback ORDER BY feedback.feedback_id\n",
      "2022-03-30 19:20:42,549 INFO sqlalchemy.engine.Engine [generated in 0.00101s] ()\n",
      "FeedbackID: 1 OrderID: 1 Provided Feedback: Gooddd\n"
     ]
    }
   ],
   "source": [
    "#Retreiving Order Feedback\n",
    "providedFeedbacks = objSession7.query(Feedback).order_by(Feedback.feedback_id).all()\n",
    "    # Displaying all coupons with their Validity dates\n",
    "for fdbk in providedFeedbacks:\n",
    "        print(\"FeedbackID:\",fdbk.feedback_id,\"OrderID:\",fdbk.order_id,\"Provided Feedback:\",fdbk.feedback_text)\n"
   ]
  },
  {
   "cell_type": "code",
   "execution_count": 113,
   "id": "9fdd3399",
   "metadata": {},
   "outputs": [
    {
     "name": "stdout",
     "output_type": "stream",
     "text": [
      "2022-03-30 19:20:44,732 INFO sqlalchemy.engine.Engine ROLLBACK\n"
     ]
    },
    {
     "name": "stderr",
     "output_type": "stream",
     "text": [
      "C:\\Users\\tejas\\AppData\\Local\\Temp/ipykernel_16736/2877651611.py:2: SADeprecationWarning: The Session.close_all() method is deprecated and will be removed in a future release.  Please refer to session.close_all_sessions(). (deprecated since: 1.3)\n",
      "  objSession7.close_all()\n"
     ]
    }
   ],
   "source": [
    "conn7.close()\n",
    "objSession7.close_all()"
   ]
  },
  {
   "cell_type": "code",
   "execution_count": null,
   "id": "4e354cac",
   "metadata": {},
   "outputs": [],
   "source": []
  },
  {
   "cell_type": "markdown",
   "id": "bbf80aea",
   "metadata": {},
   "source": [
    "# Non-Relational Database implementation with Redis"
   ]
  },
  {
   "cell_type": "markdown",
   "id": "96624d83",
   "metadata": {},
   "source": [
    "### Importing Redis and Selecting the database in which need to enter the data "
   ]
  },
  {
   "cell_type": "code",
   "execution_count": 114,
   "id": "4aacddfc",
   "metadata": {},
   "outputs": [
    {
     "name": "stdout",
     "output_type": "stream",
     "text": [
      "True\n"
     ]
    }
   ],
   "source": [
    "#Importing redis for python\n",
    "import redis\n",
    "\n",
    "#sessing connection with port number nad database number\n",
    "r2 =redis.Redis(host='localhost', port=6379, db=6)\n",
    "\n",
    "#printing connection status\n",
    "print(r2.ping())"
   ]
  },
  {
   "cell_type": "markdown",
   "id": "30f78286",
   "metadata": {},
   "source": [
    "### Inserting the data  "
   ]
  },
  {
   "cell_type": "code",
   "execution_count": 115,
   "id": "22943b31",
   "metadata": {},
   "outputs": [
    {
     "name": "stderr",
     "output_type": "stream",
     "text": [
      "C:\\Users\\tejas\\AppData\\Local\\Temp/ipykernel_16736/3554284889.py:2: DeprecationWarning: Redis.hmset() is deprecated. Use Redis.hset() instead.\n",
      "  r2.hmset(customer1,  {1:\"latte\", 2:\"capucchino\",8: \"Egg Sandwich\",15: \"Chicken Nugets\"})\n",
      "C:\\Users\\tejas\\AppData\\Local\\Temp/ipykernel_16736/3554284889.py:5: DeprecationWarning: Redis.hmset() is deprecated. Use Redis.hset() instead.\n",
      "  r2.hmset(customer2,  {1:\"latte\", 2:\"capucchino\",8: \"Egg Sandwich\"})\n",
      "C:\\Users\\tejas\\AppData\\Local\\Temp/ipykernel_16736/3554284889.py:8: DeprecationWarning: Redis.hmset() is deprecated. Use Redis.hset() instead.\n",
      "  r2.hmset(customer3,  {1:\"latte\", 2:\"capucchino\"})\n",
      "C:\\Users\\tejas\\AppData\\Local\\Temp/ipykernel_16736/3554284889.py:11: DeprecationWarning: Redis.hmset() is deprecated. Use Redis.hset() instead.\n",
      "  r2.hmset(customer4,  {1:\"latte\", 2:\"capucchino\",13: \"MaC Chicken\",10: \"Lamb Sandwich\"})\n",
      "C:\\Users\\tejas\\AppData\\Local\\Temp/ipykernel_16736/3554284889.py:14: DeprecationWarning: Redis.hmset() is deprecated. Use Redis.hset() instead.\n",
      "  r2.hmset(customer5,  {1:\"latte\", 2:\"capucchino\",8: \"Egg Sandwich\",10: \"Lamb Sandwich\"})\n",
      "C:\\Users\\tejas\\AppData\\Local\\Temp/ipykernel_16736/3554284889.py:17: DeprecationWarning: Redis.hmset() is deprecated. Use Redis.hset() instead.\n",
      "  r2.hmset(customer6,  {1:\"latte\", 2:\"capucchino\"})\n",
      "C:\\Users\\tejas\\AppData\\Local\\Temp/ipykernel_16736/3554284889.py:20: DeprecationWarning: Redis.hmset() is deprecated. Use Redis.hset() instead.\n",
      "  r2.hmset(customer7,  {1:\"latte\", 2:\"capucchino\",13: \"MaC Chicken\"})\n"
     ]
    },
    {
     "data": {
      "text/plain": [
       "True"
      ]
     },
     "execution_count": 115,
     "metadata": {},
     "output_type": "execute_result"
    }
   ],
   "source": [
    "customer1 = \"c1\"\n",
    "r2.hmset(customer1,  {1:\"latte\", 2:\"capucchino\",8: \"Egg Sandwich\",15: \"Chicken Nugets\"})\n",
    "\n",
    "customer2 = \"c2\"\n",
    "r2.hmset(customer2,  {1:\"latte\", 2:\"capucchino\",8: \"Egg Sandwich\"})\n",
    "\n",
    "customer3 = \"c3\"\n",
    "r2.hmset(customer3,  {1:\"latte\", 2:\"capucchino\"})\n",
    "\n",
    "customer4 = \"c4\"\n",
    "r2.hmset(customer4,  {1:\"latte\", 2:\"capucchino\",13: \"MaC Chicken\",10: \"Lamb Sandwich\"})\n",
    "\n",
    "customer5 = \"c5\"\n",
    "r2.hmset(customer5,  {1:\"latte\", 2:\"capucchino\",8: \"Egg Sandwich\",10: \"Lamb Sandwich\"})\n",
    "\n",
    "customer6 = \"c6\"\n",
    "r2.hmset(customer6,  {1:\"latte\", 2:\"capucchino\"})\n",
    "\n",
    "customer7 = \"c7\"\n",
    "r2.hmset(customer7,  {1:\"latte\", 2:\"capucchino\",13: \"MaC Chicken\"})"
   ]
  },
  {
   "cell_type": "markdown",
   "id": "c03b0a4a",
   "metadata": {},
   "source": [
    "### Retreiving stored data by checking CustID from customers table"
   ]
  },
  {
   "cell_type": "code",
   "execution_count": 116,
   "id": "90b27ecd",
   "metadata": {},
   "outputs": [
    {
     "name": "stdout",
     "output_type": "stream",
     "text": [
      "{b'1': b'latte', b'2': b'capucchino', b'8': b'Egg Sandwich', b'15': b'Chicken Nugets'}\n"
     ]
    }
   ],
   "source": [
    "print(r2.hgetall(\"c1\"))"
   ]
  },
  {
   "cell_type": "markdown",
   "id": "6dc7e721",
   "metadata": {},
   "source": [
    "### Applying Time to leave concept. Expiring an item in database  after 60 sec. "
   ]
  },
  {
   "cell_type": "code",
   "execution_count": 117,
   "id": "08515d53",
   "metadata": {},
   "outputs": [
    {
     "name": "stdout",
     "output_type": "stream",
     "text": [
      "[b'c1']\n"
     ]
    },
    {
     "data": {
      "text/plain": [
       "True"
      ]
     },
     "execution_count": 117,
     "metadata": {},
     "output_type": "execute_result"
    }
   ],
   "source": [
    "print(r2.keys(\"c1*\"))\n",
    "r2.expire(name=customer1, time=10)"
   ]
  },
  {
   "cell_type": "code",
   "execution_count": 124,
   "id": "d1d16c94",
   "metadata": {},
   "outputs": [
    {
     "name": "stdout",
     "output_type": "stream",
     "text": [
      "-2\n",
      "item out of stock\n"
     ]
    }
   ],
   "source": [
    "print(r2.ttl(customer1))\n",
    "if(r2.ttl(customer1)<0):\n",
    "        print(\"item out of stock\")"
   ]
  },
  {
   "cell_type": "code",
   "execution_count": null,
   "id": "4ee3231c",
   "metadata": {},
   "outputs": [],
   "source": []
  },
  {
   "cell_type": "markdown",
   "id": "8a7d185e",
   "metadata": {},
   "source": [
    "# Operation interdependant on SQLite and Redis"
   ]
  },
  {
   "cell_type": "code",
   "execution_count": 125,
   "id": "240284aa",
   "metadata": {},
   "outputs": [],
   "source": [
    "conn8=sqlite3.connect(pathForSQLConn)\n",
    "cur=conn8.cursor()\n",
    "objSession8 = Session()"
   ]
  },
  {
   "cell_type": "code",
   "execution_count": 126,
   "id": "53d4a44a",
   "metadata": {},
   "outputs": [
    {
     "name": "stderr",
     "output_type": "stream",
     "text": [
      "C:\\Users\\tejas\\AppData\\Local\\Temp/ipykernel_16736/1775593190.py:4: DeprecationWarning: Redis.hmset() is deprecated. Use Redis.hset() instead.\n",
      "  r2.hmset(customer1,  {1:\"latte\", 2:\"capucchino\",8: \"Egg Sandwich\",15: \"Chicken Nugets\"})\n",
      "C:\\Users\\tejas\\AppData\\Local\\Temp/ipykernel_16736/1775593190.py:7: DeprecationWarning: Redis.hmset() is deprecated. Use Redis.hset() instead.\n",
      "  r2.hmset(customer2,  {1:\"latte\", 2:\"capucchino\",8: \"Egg Sandwich\"})\n",
      "C:\\Users\\tejas\\AppData\\Local\\Temp/ipykernel_16736/1775593190.py:10: DeprecationWarning: Redis.hmset() is deprecated. Use Redis.hset() instead.\n",
      "  r2.hmset(customer3,  {1:\"latte\", 2:\"capucchino\"})\n",
      "C:\\Users\\tejas\\AppData\\Local\\Temp/ipykernel_16736/1775593190.py:13: DeprecationWarning: Redis.hmset() is deprecated. Use Redis.hset() instead.\n",
      "  r2.hmset(customer4,  {1:\"latte\", 2:\"capucchino\",13: \"MaC Chicken\",10: \"Lamb Sandwich\"})\n",
      "C:\\Users\\tejas\\AppData\\Local\\Temp/ipykernel_16736/1775593190.py:16: DeprecationWarning: Redis.hmset() is deprecated. Use Redis.hset() instead.\n",
      "  r2.hmset(customer5,  {1:\"latte\", 2:\"capucchino\",8: \"Egg Sandwich\",10: \"Lamb Sandwich\"})\n",
      "C:\\Users\\tejas\\AppData\\Local\\Temp/ipykernel_16736/1775593190.py:19: DeprecationWarning: Redis.hmset() is deprecated. Use Redis.hset() instead.\n",
      "  r2.hmset(customer6,  {1:\"latte\", 2:\"capucchino\"})\n",
      "C:\\Users\\tejas\\AppData\\Local\\Temp/ipykernel_16736/1775593190.py:22: DeprecationWarning: Redis.hmset() is deprecated. Use Redis.hset() instead.\n",
      "  r2.hmset(customer7,  {1:\"latte\", 2:\"capucchino\",13: \"MaC Chicken\"})\n"
     ]
    },
    {
     "data": {
      "text/plain": [
       "True"
      ]
     },
     "execution_count": 126,
     "metadata": {},
     "output_type": "execute_result"
    }
   ],
   "source": [
    "#Creating wishlists \n",
    "\n",
    "customer1 = \"1\"\n",
    "r2.hmset(customer1,  {1:\"latte\", 2:\"capucchino\",8: \"Egg Sandwich\",15: \"Chicken Nugets\"})\n",
    "\n",
    "customer2 = \"2\"\n",
    "r2.hmset(customer2,  {1:\"latte\", 2:\"capucchino\",8: \"Egg Sandwich\"})\n",
    "\n",
    "customer3 = \"3\"\n",
    "r2.hmset(customer3,  {1:\"latte\", 2:\"capucchino\"})\n",
    "\n",
    "customer4 = \"4\"\n",
    "r2.hmset(customer4,  {1:\"latte\", 2:\"capucchino\",13: \"MaC Chicken\",10: \"Lamb Sandwich\"})\n",
    "\n",
    "customer5 = \"5\"\n",
    "r2.hmset(customer5,  {1:\"latte\", 2:\"capucchino\",8: \"Egg Sandwich\",10: \"Lamb Sandwich\"})\n",
    "\n",
    "customer6 = \"6\"\n",
    "r2.hmset(customer6,  {1:\"latte\", 2:\"capucchino\"})\n",
    "\n",
    "customer7 = \"7\"\n",
    "r2.hmset(customer7,  {1:\"latte\", 2:\"capucchino\",13: \"MaC Chicken\"})"
   ]
  },
  {
   "cell_type": "code",
   "execution_count": 127,
   "id": "b5559a37",
   "metadata": {},
   "outputs": [
    {
     "data": {
      "text/plain": [
       "True"
      ]
     },
     "execution_count": 127,
     "metadata": {},
     "output_type": "execute_result"
    }
   ],
   "source": [
    "#Setting Expiry for some available wishlists\n",
    "\n",
    "r2.expire(name=customer1,time=60)\n",
    "r2.expire(name=customer2,time=120)\n",
    "r2.expire(name=customer3,time=30)\n",
    "r2.expire(name=customer4,time=5)\n",
    "r2.expire(name=customer5,time=10)\n",
    "r2.expire(name=customer6,time=300)\n",
    "r2.expire(name=customer7,time=20)"
   ]
  },
  {
   "cell_type": "code",
   "execution_count": null,
   "id": "9e94eb97",
   "metadata": {},
   "outputs": [],
   "source": []
  },
  {
   "cell_type": "code",
   "execution_count": 133,
   "id": "3b8e9cd5",
   "metadata": {},
   "outputs": [
    {
     "name": "stdout",
     "output_type": "stream",
     "text": [
      "Enter CustID to retrieve wishlist:2\n",
      "{b'1': b'latte', b'2': b'capucchino', b'8': b'Egg Sandwich', b'15': b'Chicken Nugets'}\n",
      "Time To live remaining is:93\n"
     ]
    }
   ],
   "source": [
    "custIDinputForWishlist=int(input(\"Enter CustID to retrieve wishlist:\"))\n",
    "customerCheckStatusWishlist=customerCheck(custIDinputForWishlist,cur)\n",
    "if(customerCheckStatusWishlist==1):\n",
    "    if(custIDinputForWishlist>=1 and custIDinputForWishlist<=7):\n",
    "        if(custIDinputForWishlist==1 and (r2.ttl(customer1)>0)):\n",
    "            print(r2.hgetall(1))\n",
    "            print(\"Time To live remaining is:{}\".format(r2.ttl(customer1)))    \n",
    "        elif(custIDinputForWishlist==2 and (r2.ttl(customer2)>0)):\n",
    "            print(r2.hgetall(1))\n",
    "            print(\"Time To live remaining is:{}\".format(r2.ttl(customer2)))\n",
    "        elif(custIDinputForWishlist==3 and (r2.ttl(customer3)>0)):\n",
    "            print(r2.hgetall(1))\n",
    "            print(\"Time To live remaining is:{}\".format(r2.ttl(customer3)))\n",
    "        elif(custIDinputForWishlist==4 and (r2.ttl(customer4)>0)):\n",
    "            print(r2.hgetall(1))\n",
    "            print(\"Time To live remaining is:{}\".format(r2.ttl(customer4)))\n",
    "        elif(custIDinputForWishlist==5 and (r2.ttl(customer5)>0)):\n",
    "            print(r2.hgetall(1))\n",
    "            print(\"Time To live remaining is:{}\".format(r2.ttl(customer5)))\n",
    "        elif(custIDinputForWishlist==6 and (r2.ttl(customer6)>0)):\n",
    "            print(r2.hgetall(1))\n",
    "            print(\"Time To live remaining is:{}\".format(r2.ttl(customer6)))\n",
    "        elif(custIDinputForWishlist==7 and (r2.ttl(customer7)>0)):\n",
    "            print(r2.hgetall(1))\n",
    "            print(\"Time To live remaining is:{}\".format(r2.ttl(customer7)))\n",
    "        else:\n",
    "            print(\"Wishlist is Expired. Ask admin to create a wishlist for you\")\n",
    "    else:\n",
    "        print(\"Customer Does not have wishlist\")\n",
    "else:\n",
    "    print(\"Customer does not exists\")"
   ]
  },
  {
   "cell_type": "code",
   "execution_count": 134,
   "id": "e9df4622",
   "metadata": {},
   "outputs": [
    {
     "name": "stderr",
     "output_type": "stream",
     "text": [
      "C:\\Users\\tejas\\AppData\\Local\\Temp/ipykernel_16736/1701735844.py:2: SADeprecationWarning: The Session.close_all() method is deprecated and will be removed in a future release.  Please refer to session.close_all_sessions(). (deprecated since: 1.3)\n",
      "  objSession8.close_all()\n"
     ]
    }
   ],
   "source": [
    "conn8.close()\n",
    "objSession8.close_all()"
   ]
  },
  {
   "cell_type": "code",
   "execution_count": null,
   "id": "152afb73",
   "metadata": {},
   "outputs": [],
   "source": []
  },
  {
   "cell_type": "code",
   "execution_count": null,
   "id": "88bbd8aa",
   "metadata": {},
   "outputs": [],
   "source": []
  },
  {
   "cell_type": "code",
   "execution_count": null,
   "id": "fdc63c77",
   "metadata": {},
   "outputs": [],
   "source": []
  },
  {
   "cell_type": "code",
   "execution_count": null,
   "id": "bdcc5332",
   "metadata": {},
   "outputs": [],
   "source": []
  },
  {
   "cell_type": "code",
   "execution_count": null,
   "id": "b4069617",
   "metadata": {},
   "outputs": [],
   "source": []
  },
  {
   "cell_type": "code",
   "execution_count": null,
   "id": "7c93a1b6",
   "metadata": {},
   "outputs": [],
   "source": []
  }
 ],
 "metadata": {
  "kernelspec": {
   "display_name": "Python 3 (ipykernel)",
   "language": "python",
   "name": "python3"
  },
  "language_info": {
   "codemirror_mode": {
    "name": "ipython",
    "version": 3
   },
   "file_extension": ".py",
   "mimetype": "text/x-python",
   "name": "python",
   "nbconvert_exporter": "python",
   "pygments_lexer": "ipython3",
   "version": "3.9.7"
  }
 },
 "nbformat": 4,
 "nbformat_minor": 5
}
